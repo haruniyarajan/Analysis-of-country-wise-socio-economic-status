{
 "cells": [
  {
   "cell_type": "markdown",
   "metadata": {
    "colab_type": "text",
    "id": "tNP1S-PsvI_5"
   },
   "source": [
    "### ATTRIBUTES:"
   ]
  },
  {
   "cell_type": "markdown",
   "metadata": {
    "colab_type": "text",
    "id": "vRP3pw0KvI_6"
   },
   "source": [
    "1. country = Name of the country \n",
    "2. child_mort = Death of children under 5 years of age per 1000 live births \n",
    "3. exports = Exports of goods and services. Given as %age of the Total GDP \n",
    "\n",
    "4. health = Total health spending as %age of Total GDP \n",
    "\n",
    "5. imports =  Imports of goods and services. Given as %age of the Total GDP \n",
    "\n",
    "6. Income =  Net income per person \n",
    "\n",
    "7. Inflation =  The measurement of the annual growth rate of the Total GDP \n",
    "\n",
    "8. life_expec = The average number of years a new born child would live if the current mortality patterns are to remain the same \n",
    "\n",
    "9. total_fer = The number of children that would be born to each woman if the current age-fertility rates remain the same. \n",
    "\n",
    "10. gdpp = The GDP per capita. Calculated as the Total GDP divided by the total population. \n",
    " "
   ]
  },
  {
   "cell_type": "code",
   "execution_count": 2,
   "metadata": {},
   "outputs": [
    {
     "data": {
      "text/html": [
       "<div>\n",
       "<style scoped>\n",
       "    .dataframe tbody tr th:only-of-type {\n",
       "        vertical-align: middle;\n",
       "    }\n",
       "\n",
       "    .dataframe tbody tr th {\n",
       "        vertical-align: top;\n",
       "    }\n",
       "\n",
       "    .dataframe thead th {\n",
       "        text-align: right;\n",
       "    }\n",
       "</style>\n",
       "<table border=\"1\" class=\"dataframe\">\n",
       "  <thead>\n",
       "    <tr style=\"text-align: right;\">\n",
       "      <th></th>\n",
       "      <th>country</th>\n",
       "      <th>child_mort</th>\n",
       "      <th>exports</th>\n",
       "      <th>health</th>\n",
       "      <th>imports</th>\n",
       "      <th>income</th>\n",
       "      <th>inflation</th>\n",
       "      <th>life_expec</th>\n",
       "      <th>total_fer</th>\n",
       "      <th>gdpp</th>\n",
       "    </tr>\n",
       "  </thead>\n",
       "  <tbody>\n",
       "    <tr>\n",
       "      <th>0</th>\n",
       "      <td>Afghanistan</td>\n",
       "      <td>90.2</td>\n",
       "      <td>10.0</td>\n",
       "      <td>7.58</td>\n",
       "      <td>44.9</td>\n",
       "      <td>1610</td>\n",
       "      <td>9.44</td>\n",
       "      <td>56.2</td>\n",
       "      <td>5.82</td>\n",
       "      <td>553</td>\n",
       "    </tr>\n",
       "    <tr>\n",
       "      <th>1</th>\n",
       "      <td>Albania</td>\n",
       "      <td>16.6</td>\n",
       "      <td>28.0</td>\n",
       "      <td>6.55</td>\n",
       "      <td>48.6</td>\n",
       "      <td>9930</td>\n",
       "      <td>4.49</td>\n",
       "      <td>76.3</td>\n",
       "      <td>1.65</td>\n",
       "      <td>4090</td>\n",
       "    </tr>\n",
       "    <tr>\n",
       "      <th>2</th>\n",
       "      <td>Algeria</td>\n",
       "      <td>27.3</td>\n",
       "      <td>38.4</td>\n",
       "      <td>4.17</td>\n",
       "      <td>31.4</td>\n",
       "      <td>12900</td>\n",
       "      <td>16.10</td>\n",
       "      <td>76.5</td>\n",
       "      <td>2.89</td>\n",
       "      <td>4460</td>\n",
       "    </tr>\n",
       "    <tr>\n",
       "      <th>3</th>\n",
       "      <td>Angola</td>\n",
       "      <td>119.0</td>\n",
       "      <td>62.3</td>\n",
       "      <td>2.85</td>\n",
       "      <td>42.9</td>\n",
       "      <td>5900</td>\n",
       "      <td>22.40</td>\n",
       "      <td>60.1</td>\n",
       "      <td>6.16</td>\n",
       "      <td>3530</td>\n",
       "    </tr>\n",
       "    <tr>\n",
       "      <th>4</th>\n",
       "      <td>Antigua and Barbuda</td>\n",
       "      <td>10.3</td>\n",
       "      <td>45.5</td>\n",
       "      <td>6.03</td>\n",
       "      <td>58.9</td>\n",
       "      <td>19100</td>\n",
       "      <td>1.44</td>\n",
       "      <td>76.8</td>\n",
       "      <td>2.13</td>\n",
       "      <td>12200</td>\n",
       "    </tr>\n",
       "  </tbody>\n",
       "</table>\n",
       "</div>"
      ],
      "text/plain": [
       "               country  child_mort  exports  health  imports  income  \\\n",
       "0          Afghanistan        90.2     10.0    7.58     44.9    1610   \n",
       "1              Albania        16.6     28.0    6.55     48.6    9930   \n",
       "2              Algeria        27.3     38.4    4.17     31.4   12900   \n",
       "3               Angola       119.0     62.3    2.85     42.9    5900   \n",
       "4  Antigua and Barbuda        10.3     45.5    6.03     58.9   19100   \n",
       "\n",
       "   inflation  life_expec  total_fer   gdpp  \n",
       "0       9.44        56.2       5.82    553  \n",
       "1       4.49        76.3       1.65   4090  \n",
       "2      16.10        76.5       2.89   4460  \n",
       "3      22.40        60.1       6.16   3530  \n",
       "4       1.44        76.8       2.13  12200  "
      ]
     },
     "execution_count": 2,
     "metadata": {},
     "output_type": "execute_result"
    }
   ],
   "source": [
    "import pandas as pd\n",
    "\n",
    "import csv\n",
    "\n",
    "with open(\"data_set.csv\",\"r\")as file:\n",
    "    \n",
    "    reader=csv.reader(file)\n",
    "\n",
    "df=pd.read_csv(\"data_set.csv\")\n",
    "\n",
    "df.head()\n"
   ]
  },
  {
   "cell_type": "code",
   "execution_count": null,
   "metadata": {},
   "outputs": [],
   "source": []
  },
  {
   "cell_type": "markdown",
   "metadata": {
    "colab_type": "text",
    "id": "XbTn6pKAvI_7"
   },
   "source": [
    "### \tData Understanding\n"
   ]
  },
  {
   "cell_type": "code",
   "execution_count": 3,
   "metadata": {},
   "outputs": [
    {
     "data": {
      "text/plain": [
       "(1994, 10)"
      ]
     },
     "execution_count": 3,
     "metadata": {},
     "output_type": "execute_result"
    }
   ],
   "source": [
    "#\n",
    "df.shape #There are 1994 rows and 10 columns present in the dataset."
   ]
  },
  {
   "cell_type": "code",
   "execution_count": 4,
   "metadata": {},
   "outputs": [
    {
     "name": "stdout",
     "output_type": "stream",
     "text": [
      "<class 'pandas.core.frame.DataFrame'>\n",
      "RangeIndex: 1994 entries, 0 to 1993\n",
      "Data columns (total 10 columns):\n",
      "country       1994 non-null object\n",
      "child_mort    1994 non-null float64\n",
      "exports       1994 non-null float64\n",
      "health        1994 non-null float64\n",
      "imports       1994 non-null float64\n",
      "income        1994 non-null int64\n",
      "inflation     1994 non-null float64\n",
      "life_expec    1994 non-null float64\n",
      "total_fer     1994 non-null float64\n",
      "gdpp          1994 non-null int64\n",
      "dtypes: float64(7), int64(2), object(1)\n",
      "memory usage: 155.9+ KB\n"
     ]
    }
   ],
   "source": [
    "df.info() # There is one categorical feature and the rest are all continuous in nature"
   ]
  },
  {
   "cell_type": "code",
   "execution_count": 5,
   "metadata": {},
   "outputs": [
    {
     "data": {
      "text/html": [
       "<div>\n",
       "<style scoped>\n",
       "    .dataframe tbody tr th:only-of-type {\n",
       "        vertical-align: middle;\n",
       "    }\n",
       "\n",
       "    .dataframe tbody tr th {\n",
       "        vertical-align: top;\n",
       "    }\n",
       "\n",
       "    .dataframe thead th {\n",
       "        text-align: right;\n",
       "    }\n",
       "</style>\n",
       "<table border=\"1\" class=\"dataframe\">\n",
       "  <thead>\n",
       "    <tr style=\"text-align: right;\">\n",
       "      <th></th>\n",
       "      <th>child_mort</th>\n",
       "      <th>exports</th>\n",
       "      <th>health</th>\n",
       "      <th>imports</th>\n",
       "      <th>income</th>\n",
       "      <th>inflation</th>\n",
       "      <th>life_expec</th>\n",
       "      <th>total_fer</th>\n",
       "      <th>gdpp</th>\n",
       "    </tr>\n",
       "  </thead>\n",
       "  <tbody>\n",
       "    <tr>\n",
       "      <th>count</th>\n",
       "      <td>1994.000000</td>\n",
       "      <td>1994.000000</td>\n",
       "      <td>1994.000000</td>\n",
       "      <td>1994.000000</td>\n",
       "      <td>1994.000000</td>\n",
       "      <td>1994.000000</td>\n",
       "      <td>1994.000000</td>\n",
       "      <td>1994.000000</td>\n",
       "      <td>1994.000000</td>\n",
       "    </tr>\n",
       "    <tr>\n",
       "      <th>mean</th>\n",
       "      <td>46.264845</td>\n",
       "      <td>40.897795</td>\n",
       "      <td>6.639102</td>\n",
       "      <td>46.688797</td>\n",
       "      <td>16206.971916</td>\n",
       "      <td>7.293361</td>\n",
       "      <td>69.970361</td>\n",
       "      <td>3.165587</td>\n",
       "      <td>13138.625376</td>\n",
       "    </tr>\n",
       "    <tr>\n",
       "      <th>std</th>\n",
       "      <td>45.875061</td>\n",
       "      <td>23.458995</td>\n",
       "      <td>2.697765</td>\n",
       "      <td>20.897354</td>\n",
       "      <td>17966.906767</td>\n",
       "      <td>9.218182</td>\n",
       "      <td>8.967489</td>\n",
       "      <td>1.722085</td>\n",
       "      <td>18465.680528</td>\n",
       "    </tr>\n",
       "    <tr>\n",
       "      <th>min</th>\n",
       "      <td>2.600000</td>\n",
       "      <td>0.109000</td>\n",
       "      <td>1.810000</td>\n",
       "      <td>0.065900</td>\n",
       "      <td>609.000000</td>\n",
       "      <td>-4.210000</td>\n",
       "      <td>32.100000</td>\n",
       "      <td>1.150000</td>\n",
       "      <td>231.000000</td>\n",
       "    </tr>\n",
       "    <tr>\n",
       "      <th>25%</th>\n",
       "      <td>7.300000</td>\n",
       "      <td>23.800000</td>\n",
       "      <td>4.860000</td>\n",
       "      <td>30.400000</td>\n",
       "      <td>3060.000000</td>\n",
       "      <td>1.910000</td>\n",
       "      <td>60.800000</td>\n",
       "      <td>1.770000</td>\n",
       "      <td>1310.000000</td>\n",
       "    </tr>\n",
       "    <tr>\n",
       "      <th>50%</th>\n",
       "      <td>24.100000</td>\n",
       "      <td>39.200000</td>\n",
       "      <td>5.970000</td>\n",
       "      <td>43.600000</td>\n",
       "      <td>7350.000000</td>\n",
       "      <td>5.440000</td>\n",
       "      <td>72.100000</td>\n",
       "      <td>2.380000</td>\n",
       "      <td>3550.000000</td>\n",
       "    </tr>\n",
       "    <tr>\n",
       "      <th>75%</th>\n",
       "      <td>88.200000</td>\n",
       "      <td>51.300000</td>\n",
       "      <td>8.100000</td>\n",
       "      <td>57.500000</td>\n",
       "      <td>27200.000000</td>\n",
       "      <td>8.920000</td>\n",
       "      <td>77.400000</td>\n",
       "      <td>4.870000</td>\n",
       "      <td>17100.000000</td>\n",
       "    </tr>\n",
       "    <tr>\n",
       "      <th>max</th>\n",
       "      <td>208.000000</td>\n",
       "      <td>200.000000</td>\n",
       "      <td>17.900000</td>\n",
       "      <td>174.000000</td>\n",
       "      <td>125000.000000</td>\n",
       "      <td>104.000000</td>\n",
       "      <td>82.800000</td>\n",
       "      <td>7.490000</td>\n",
       "      <td>105000.000000</td>\n",
       "    </tr>\n",
       "  </tbody>\n",
       "</table>\n",
       "</div>"
      ],
      "text/plain": [
       "        child_mort      exports       health      imports         income  \\\n",
       "count  1994.000000  1994.000000  1994.000000  1994.000000    1994.000000   \n",
       "mean     46.264845    40.897795     6.639102    46.688797   16206.971916   \n",
       "std      45.875061    23.458995     2.697765    20.897354   17966.906767   \n",
       "min       2.600000     0.109000     1.810000     0.065900     609.000000   \n",
       "25%       7.300000    23.800000     4.860000    30.400000    3060.000000   \n",
       "50%      24.100000    39.200000     5.970000    43.600000    7350.000000   \n",
       "75%      88.200000    51.300000     8.100000    57.500000   27200.000000   \n",
       "max     208.000000   200.000000    17.900000   174.000000  125000.000000   \n",
       "\n",
       "         inflation   life_expec    total_fer           gdpp  \n",
       "count  1994.000000  1994.000000  1994.000000    1994.000000  \n",
       "mean      7.293361    69.970361     3.165587   13138.625376  \n",
       "std       9.218182     8.967489     1.722085   18465.680528  \n",
       "min      -4.210000    32.100000     1.150000     231.000000  \n",
       "25%       1.910000    60.800000     1.770000    1310.000000  \n",
       "50%       5.440000    72.100000     2.380000    3550.000000  \n",
       "75%       8.920000    77.400000     4.870000   17100.000000  \n",
       "max     104.000000    82.800000     7.490000  105000.000000  "
      ]
     },
     "execution_count": 5,
     "metadata": {},
     "output_type": "execute_result"
    }
   ],
   "source": [
    "\n",
    "df.describe()"
   ]
  },
  {
   "cell_type": "code",
   "execution_count": 6,
   "metadata": {},
   "outputs": [
    {
     "data": {
      "text/plain": [
       "Index(['country'], dtype='object')"
      ]
     },
     "execution_count": 6,
     "metadata": {},
     "output_type": "execute_result"
    }
   ],
   "source": [
    "#number of categories\n",
    "cat=df.select_dtypes(include='O')\n",
    "cat.columns"
   ]
  },
  {
   "cell_type": "code",
   "execution_count": 7,
   "metadata": {},
   "outputs": [
    {
     "data": {
      "text/plain": [
       "Bhutan            0.064193\n",
       "Austria           0.055165\n",
       "Angola            0.055165\n",
       "Burkina Faso      0.042628\n",
       "Cameroon          0.034102\n",
       "El Salvador       0.025075\n",
       "Cyprus            0.023571\n",
       "Denmark           0.023069\n",
       "Chad              0.023069\n",
       "Comoros           0.023069\n",
       "China             0.020562\n",
       "Czech Republic    0.019057\n",
       "Fiji              0.014042\n",
       "Argentina         0.012036\n",
       "Egypt             0.004012\n",
       "Guatemala         0.004012\n",
       "India             0.004012\n",
       "Albania           0.004012\n",
       "Guinea-Bissau     0.004012\n",
       "France            0.004012\n",
       "Guinea            0.004012\n",
       "Botswana          0.004012\n",
       "Algeria           0.004012\n",
       "Eritrea           0.004012\n",
       "Hungary           0.004012\n",
       "Bulgaria          0.004012\n",
       "Indonesia         0.004012\n",
       "Iran              0.004012\n",
       "Bolivia           0.004012\n",
       "Armenia           0.004012\n",
       "                    ...   \n",
       "Maldives          0.003511\n",
       "Namibia           0.003511\n",
       "South Korea       0.003511\n",
       "Nepal             0.003511\n",
       "Russia            0.003511\n",
       "Latvia            0.003511\n",
       "Mali              0.003511\n",
       "Suriname          0.003511\n",
       "Malawi            0.003511\n",
       "Mongolia          0.003511\n",
       "Peru              0.003511\n",
       "Switzerland       0.003511\n",
       "Oman              0.003511\n",
       "Sweden            0.003511\n",
       "Romania           0.003511\n",
       "Poland            0.003511\n",
       "Myanmar           0.003511\n",
       "Sudan             0.003511\n",
       "Japan             0.003511\n",
       "Spain             0.003511\n",
       "Kenya             0.003511\n",
       "Timor-Leste       0.003511\n",
       "Portugal          0.003511\n",
       "Zambia            0.003009\n",
       "Venezuela         0.003009\n",
       "Vanuatu           0.003009\n",
       "Uruguay           0.003009\n",
       "Yemen             0.003009\n",
       "Uzbekistan        0.003009\n",
       "Vietnam           0.003009\n",
       "Name: country, Length: 167, dtype: float64"
      ]
     },
     "execution_count": 7,
     "metadata": {},
     "output_type": "execute_result"
    }
   ],
   "source": [
    "#percentage observation in each category\n",
    "cat.country.value_counts(normalize=True)"
   ]
  },
  {
   "cell_type": "code",
   "execution_count": 8,
   "metadata": {},
   "outputs": [
    {
     "data": {
      "text/html": [
       "<div>\n",
       "<style scoped>\n",
       "    .dataframe tbody tr th:only-of-type {\n",
       "        vertical-align: middle;\n",
       "    }\n",
       "\n",
       "    .dataframe tbody tr th {\n",
       "        vertical-align: top;\n",
       "    }\n",
       "\n",
       "    .dataframe thead th {\n",
       "        text-align: right;\n",
       "    }\n",
       "</style>\n",
       "<table border=\"1\" class=\"dataframe\">\n",
       "  <thead>\n",
       "    <tr style=\"text-align: right;\">\n",
       "      <th></th>\n",
       "      <th>child_mort</th>\n",
       "      <th>exports</th>\n",
       "      <th>health</th>\n",
       "      <th>imports</th>\n",
       "      <th>income</th>\n",
       "      <th>inflation</th>\n",
       "      <th>life_expec</th>\n",
       "      <th>total_fer</th>\n",
       "      <th>gdpp</th>\n",
       "    </tr>\n",
       "  </thead>\n",
       "  <tbody>\n",
       "    <tr>\n",
       "      <th>child_mort</th>\n",
       "      <td>1.000000</td>\n",
       "      <td>-0.271367</td>\n",
       "      <td>-0.406499</td>\n",
       "      <td>-0.188822</td>\n",
       "      <td>-0.596205</td>\n",
       "      <td>0.333879</td>\n",
       "      <td>-0.910413</td>\n",
       "      <td>0.918370</td>\n",
       "      <td>-0.542255</td>\n",
       "    </tr>\n",
       "    <tr>\n",
       "      <th>exports</th>\n",
       "      <td>-0.271367</td>\n",
       "      <td>1.000000</td>\n",
       "      <td>-0.066722</td>\n",
       "      <td>0.686172</td>\n",
       "      <td>0.498937</td>\n",
       "      <td>-0.026581</td>\n",
       "      <td>0.303846</td>\n",
       "      <td>-0.259949</td>\n",
       "      <td>0.404071</td>\n",
       "    </tr>\n",
       "    <tr>\n",
       "      <th>health</th>\n",
       "      <td>-0.406499</td>\n",
       "      <td>-0.066722</td>\n",
       "      <td>1.000000</td>\n",
       "      <td>0.057098</td>\n",
       "      <td>0.373230</td>\n",
       "      <td>-0.344755</td>\n",
       "      <td>0.399734</td>\n",
       "      <td>-0.391011</td>\n",
       "      <td>0.543551</td>\n",
       "    </tr>\n",
       "    <tr>\n",
       "      <th>imports</th>\n",
       "      <td>-0.188822</td>\n",
       "      <td>0.686172</td>\n",
       "      <td>0.057098</td>\n",
       "      <td>1.000000</td>\n",
       "      <td>0.122371</td>\n",
       "      <td>-0.237108</td>\n",
       "      <td>0.145343</td>\n",
       "      <td>-0.228377</td>\n",
       "      <td>0.099382</td>\n",
       "    </tr>\n",
       "    <tr>\n",
       "      <th>income</th>\n",
       "      <td>-0.596205</td>\n",
       "      <td>0.498937</td>\n",
       "      <td>0.373230</td>\n",
       "      <td>0.122371</td>\n",
       "      <td>1.000000</td>\n",
       "      <td>-0.207267</td>\n",
       "      <td>0.678720</td>\n",
       "      <td>-0.567905</td>\n",
       "      <td>0.916825</td>\n",
       "    </tr>\n",
       "    <tr>\n",
       "      <th>inflation</th>\n",
       "      <td>0.333879</td>\n",
       "      <td>-0.026581</td>\n",
       "      <td>-0.344755</td>\n",
       "      <td>-0.237108</td>\n",
       "      <td>-0.207267</td>\n",
       "      <td>1.000000</td>\n",
       "      <td>-0.298859</td>\n",
       "      <td>0.377672</td>\n",
       "      <td>-0.270106</td>\n",
       "    </tr>\n",
       "    <tr>\n",
       "      <th>life_expec</th>\n",
       "      <td>-0.910413</td>\n",
       "      <td>0.303846</td>\n",
       "      <td>0.399734</td>\n",
       "      <td>0.145343</td>\n",
       "      <td>0.678720</td>\n",
       "      <td>-0.298859</td>\n",
       "      <td>1.000000</td>\n",
       "      <td>-0.840173</td>\n",
       "      <td>0.649860</td>\n",
       "    </tr>\n",
       "    <tr>\n",
       "      <th>total_fer</th>\n",
       "      <td>0.918370</td>\n",
       "      <td>-0.259949</td>\n",
       "      <td>-0.391011</td>\n",
       "      <td>-0.228377</td>\n",
       "      <td>-0.567905</td>\n",
       "      <td>0.377672</td>\n",
       "      <td>-0.840173</td>\n",
       "      <td>1.000000</td>\n",
       "      <td>-0.511984</td>\n",
       "    </tr>\n",
       "    <tr>\n",
       "      <th>gdpp</th>\n",
       "      <td>-0.542255</td>\n",
       "      <td>0.404071</td>\n",
       "      <td>0.543551</td>\n",
       "      <td>0.099382</td>\n",
       "      <td>0.916825</td>\n",
       "      <td>-0.270106</td>\n",
       "      <td>0.649860</td>\n",
       "      <td>-0.511984</td>\n",
       "      <td>1.000000</td>\n",
       "    </tr>\n",
       "  </tbody>\n",
       "</table>\n",
       "</div>"
      ],
      "text/plain": [
       "            child_mort   exports    health   imports    income  inflation  \\\n",
       "child_mort    1.000000 -0.271367 -0.406499 -0.188822 -0.596205   0.333879   \n",
       "exports      -0.271367  1.000000 -0.066722  0.686172  0.498937  -0.026581   \n",
       "health       -0.406499 -0.066722  1.000000  0.057098  0.373230  -0.344755   \n",
       "imports      -0.188822  0.686172  0.057098  1.000000  0.122371  -0.237108   \n",
       "income       -0.596205  0.498937  0.373230  0.122371  1.000000  -0.207267   \n",
       "inflation     0.333879 -0.026581 -0.344755 -0.237108 -0.207267   1.000000   \n",
       "life_expec   -0.910413  0.303846  0.399734  0.145343  0.678720  -0.298859   \n",
       "total_fer     0.918370 -0.259949 -0.391011 -0.228377 -0.567905   0.377672   \n",
       "gdpp         -0.542255  0.404071  0.543551  0.099382  0.916825  -0.270106   \n",
       "\n",
       "            life_expec  total_fer      gdpp  \n",
       "child_mort   -0.910413   0.918370 -0.542255  \n",
       "exports       0.303846  -0.259949  0.404071  \n",
       "health        0.399734  -0.391011  0.543551  \n",
       "imports       0.145343  -0.228377  0.099382  \n",
       "income        0.678720  -0.567905  0.916825  \n",
       "inflation    -0.298859   0.377672 -0.270106  \n",
       "life_expec    1.000000  -0.840173  0.649860  \n",
       "total_fer    -0.840173   1.000000 -0.511984  \n",
       "gdpp          0.649860  -0.511984  1.000000  "
      ]
     },
     "execution_count": 8,
     "metadata": {},
     "output_type": "execute_result"
    }
   ],
   "source": [
    "\n",
    "#correlation\n",
    "df.corr()"
   ]
  },
  {
   "cell_type": "code",
   "execution_count": 9,
   "metadata": {},
   "outputs": [
    {
     "data": {
      "text/html": [
       "<div>\n",
       "<style scoped>\n",
       "    .dataframe tbody tr th:only-of-type {\n",
       "        vertical-align: middle;\n",
       "    }\n",
       "\n",
       "    .dataframe tbody tr th {\n",
       "        vertical-align: top;\n",
       "    }\n",
       "\n",
       "    .dataframe thead th {\n",
       "        text-align: right;\n",
       "    }\n",
       "</style>\n",
       "<table border=\"1\" class=\"dataframe\">\n",
       "  <thead>\n",
       "    <tr style=\"text-align: right;\">\n",
       "      <th></th>\n",
       "      <th>child_mort</th>\n",
       "      <th>exports</th>\n",
       "      <th>health</th>\n",
       "      <th>imports</th>\n",
       "      <th>income</th>\n",
       "      <th>inflation</th>\n",
       "      <th>life_expec</th>\n",
       "      <th>total_fer</th>\n",
       "      <th>gdpp</th>\n",
       "    </tr>\n",
       "  </thead>\n",
       "  <tbody>\n",
       "    <tr>\n",
       "      <th>child_mort</th>\n",
       "      <td>2104.521227</td>\n",
       "      <td>-292.040746</td>\n",
       "      <td>-50.308319</td>\n",
       "      <td>-181.017258</td>\n",
       "      <td>-4.914116e+05</td>\n",
       "      <td>141.192120</td>\n",
       "      <td>-374.529281</td>\n",
       "      <td>72.551871</td>\n",
       "      <td>-4.593518e+05</td>\n",
       "    </tr>\n",
       "    <tr>\n",
       "      <th>exports</th>\n",
       "      <td>-292.040746</td>\n",
       "      <td>550.324434</td>\n",
       "      <td>-4.222631</td>\n",
       "      <td>336.382873</td>\n",
       "      <td>2.102948e+05</td>\n",
       "      <td>-5.748031</td>\n",
       "      <td>63.919585</td>\n",
       "      <td>-10.501505</td>\n",
       "      <td>1.750382e+05</td>\n",
       "    </tr>\n",
       "    <tr>\n",
       "      <th>health</th>\n",
       "      <td>-50.308319</td>\n",
       "      <td>-4.222631</td>\n",
       "      <td>7.277935</td>\n",
       "      <td>3.218983</td>\n",
       "      <td>1.809066e+04</td>\n",
       "      <td>-8.573526</td>\n",
       "      <td>9.670428</td>\n",
       "      <td>-1.816552</td>\n",
       "      <td>2.707760e+04</td>\n",
       "    </tr>\n",
       "    <tr>\n",
       "      <th>imports</th>\n",
       "      <td>-181.017258</td>\n",
       "      <td>336.382873</td>\n",
       "      <td>3.218983</td>\n",
       "      <td>436.699385</td>\n",
       "      <td>4.594534e+04</td>\n",
       "      <td>-45.675432</td>\n",
       "      <td>27.236760</td>\n",
       "      <td>-8.218605</td>\n",
       "      <td>3.834996e+04</td>\n",
       "    </tr>\n",
       "    <tr>\n",
       "      <th>income</th>\n",
       "      <td>-491411.635559</td>\n",
       "      <td>210294.788487</td>\n",
       "      <td>18090.660502</td>\n",
       "      <td>45945.344164</td>\n",
       "      <td>3.228097e+08</td>\n",
       "      <td>-34328.076136</td>\n",
       "      <td>109354.110808</td>\n",
       "      <td>-17571.277956</td>\n",
       "      <td>3.041760e+08</td>\n",
       "    </tr>\n",
       "    <tr>\n",
       "      <th>inflation</th>\n",
       "      <td>141.192120</td>\n",
       "      <td>-5.748031</td>\n",
       "      <td>-8.573526</td>\n",
       "      <td>-45.675432</td>\n",
       "      <td>-3.432808e+04</td>\n",
       "      <td>84.974880</td>\n",
       "      <td>-24.704892</td>\n",
       "      <td>5.995355</td>\n",
       "      <td>-4.597739e+04</td>\n",
       "    </tr>\n",
       "    <tr>\n",
       "      <th>life_expec</th>\n",
       "      <td>-374.529281</td>\n",
       "      <td>63.919585</td>\n",
       "      <td>9.670428</td>\n",
       "      <td>27.236760</td>\n",
       "      <td>1.093541e+05</td>\n",
       "      <td>-24.704892</td>\n",
       "      <td>80.415855</td>\n",
       "      <td>-12.974603</td>\n",
       "      <td>1.076109e+05</td>\n",
       "    </tr>\n",
       "    <tr>\n",
       "      <th>total_fer</th>\n",
       "      <td>72.551871</td>\n",
       "      <td>-10.501505</td>\n",
       "      <td>-1.816552</td>\n",
       "      <td>-8.218605</td>\n",
       "      <td>-1.757128e+04</td>\n",
       "      <td>5.995355</td>\n",
       "      <td>-12.974603</td>\n",
       "      <td>2.965575</td>\n",
       "      <td>-1.628080e+04</td>\n",
       "    </tr>\n",
       "    <tr>\n",
       "      <th>gdpp</th>\n",
       "      <td>-459351.786182</td>\n",
       "      <td>175038.225288</td>\n",
       "      <td>27077.595941</td>\n",
       "      <td>38349.956285</td>\n",
       "      <td>3.041760e+08</td>\n",
       "      <td>-45977.385945</td>\n",
       "      <td>107610.866362</td>\n",
       "      <td>-16280.801805</td>\n",
       "      <td>3.409814e+08</td>\n",
       "    </tr>\n",
       "  </tbody>\n",
       "</table>\n",
       "</div>"
      ],
      "text/plain": [
       "               child_mort        exports        health       imports  \\\n",
       "child_mort    2104.521227    -292.040746    -50.308319   -181.017258   \n",
       "exports       -292.040746     550.324434     -4.222631    336.382873   \n",
       "health         -50.308319      -4.222631      7.277935      3.218983   \n",
       "imports       -181.017258     336.382873      3.218983    436.699385   \n",
       "income     -491411.635559  210294.788487  18090.660502  45945.344164   \n",
       "inflation      141.192120      -5.748031     -8.573526    -45.675432   \n",
       "life_expec    -374.529281      63.919585      9.670428     27.236760   \n",
       "total_fer       72.551871     -10.501505     -1.816552     -8.218605   \n",
       "gdpp       -459351.786182  175038.225288  27077.595941  38349.956285   \n",
       "\n",
       "                  income     inflation     life_expec     total_fer  \\\n",
       "child_mort -4.914116e+05    141.192120    -374.529281     72.551871   \n",
       "exports     2.102948e+05     -5.748031      63.919585    -10.501505   \n",
       "health      1.809066e+04     -8.573526       9.670428     -1.816552   \n",
       "imports     4.594534e+04    -45.675432      27.236760     -8.218605   \n",
       "income      3.228097e+08 -34328.076136  109354.110808 -17571.277956   \n",
       "inflation  -3.432808e+04     84.974880     -24.704892      5.995355   \n",
       "life_expec  1.093541e+05    -24.704892      80.415855    -12.974603   \n",
       "total_fer  -1.757128e+04      5.995355     -12.974603      2.965575   \n",
       "gdpp        3.041760e+08 -45977.385945  107610.866362 -16280.801805   \n",
       "\n",
       "                    gdpp  \n",
       "child_mort -4.593518e+05  \n",
       "exports     1.750382e+05  \n",
       "health      2.707760e+04  \n",
       "imports     3.834996e+04  \n",
       "income      3.041760e+08  \n",
       "inflation  -4.597739e+04  \n",
       "life_expec  1.076109e+05  \n",
       "total_fer  -1.628080e+04  \n",
       "gdpp        3.409814e+08  "
      ]
     },
     "execution_count": 9,
     "metadata": {},
     "output_type": "execute_result"
    }
   ],
   "source": [
    "#covariance\n",
    "df.cov()"
   ]
  },
  {
   "cell_type": "code",
   "execution_count": 10,
   "metadata": {},
   "outputs": [
    {
     "data": {
      "text/plain": [
       "<Figure size 2250x2250 with 90 Axes>"
      ]
     },
     "metadata": {},
     "output_type": "display_data"
    }
   ],
   "source": [
    "#1d pairplot among various features\n",
    "import numpy as np\n",
    "import pandas as pd\n",
    "import matplotlib.pyplot as plt\n",
    "import seaborn as sns\n",
    "sns.pairplot(df)\n",
    "plt.show()"
   ]
  },
  {
   "cell_type": "markdown",
   "metadata": {
    "colab_type": "text",
    "id": "XQy5HBHovJAG"
   },
   "source": [
    "### \tData Preparation "
   ]
  },
  {
   "cell_type": "code",
   "execution_count": 11,
   "metadata": {
    "colab": {},
    "colab_type": "code",
    "id": "70lMwFUHvJAH"
   },
   "outputs": [
    {
     "data": {
      "text/plain": [
       "country       0\n",
       "child_mort    0\n",
       "exports       0\n",
       "health        0\n",
       "imports       0\n",
       "income        0\n",
       "inflation     0\n",
       "life_expec    0\n",
       "total_fer     0\n",
       "gdpp          0\n",
       "dtype: int64"
      ]
     },
     "execution_count": 11,
     "metadata": {},
     "output_type": "execute_result"
    }
   ],
   "source": [
    "#check for null values\n",
    "df.isna().sum() #There is no null value present in the dataset"
   ]
  },
  {
   "cell_type": "code",
   "execution_count": 12,
   "metadata": {},
   "outputs": [],
   "source": [
    "#Dropping the country column\n",
    "Y=df['country']\n",
    "X=df.drop('country',axis=1)"
   ]
  },
  {
   "cell_type": "code",
   "execution_count": 13,
   "metadata": {},
   "outputs": [
    {
     "data": {
      "text/html": [
       "<div>\n",
       "<style scoped>\n",
       "    .dataframe tbody tr th:only-of-type {\n",
       "        vertical-align: middle;\n",
       "    }\n",
       "\n",
       "    .dataframe tbody tr th {\n",
       "        vertical-align: top;\n",
       "    }\n",
       "\n",
       "    .dataframe thead th {\n",
       "        text-align: right;\n",
       "    }\n",
       "</style>\n",
       "<table border=\"1\" class=\"dataframe\">\n",
       "  <thead>\n",
       "    <tr style=\"text-align: right;\">\n",
       "      <th></th>\n",
       "      <th>0</th>\n",
       "      <th>1</th>\n",
       "      <th>2</th>\n",
       "      <th>3</th>\n",
       "      <th>4</th>\n",
       "      <th>5</th>\n",
       "      <th>6</th>\n",
       "      <th>7</th>\n",
       "      <th>8</th>\n",
       "    </tr>\n",
       "  </thead>\n",
       "  <tbody>\n",
       "    <tr>\n",
       "      <th>0</th>\n",
       "      <td>1.064570</td>\n",
       "      <td>-1.879905</td>\n",
       "      <td>0.488233</td>\n",
       "      <td>0.037327</td>\n",
       "      <td>-1.358711</td>\n",
       "      <td>0.529778</td>\n",
       "      <td>-1.453746</td>\n",
       "      <td>1.369290</td>\n",
       "      <td>-1.489653</td>\n",
       "    </tr>\n",
       "    <tr>\n",
       "      <th>1</th>\n",
       "      <td>-0.353725</td>\n",
       "      <td>-0.476615</td>\n",
       "      <td>0.122190</td>\n",
       "      <td>0.220848</td>\n",
       "      <td>0.098395</td>\n",
       "      <td>-0.127136</td>\n",
       "      <td>0.683256</td>\n",
       "      <td>-0.993390</td>\n",
       "      <td>-0.041833</td>\n",
       "    </tr>\n",
       "    <tr>\n",
       "      <th>2</th>\n",
       "      <td>0.043257</td>\n",
       "      <td>0.065384</td>\n",
       "      <td>-0.931973</td>\n",
       "      <td>-0.720129</td>\n",
       "      <td>0.317489</td>\n",
       "      <td>1.166462</td>\n",
       "      <td>0.711726</td>\n",
       "      <td>0.189747</td>\n",
       "      <td>0.016370</td>\n",
       "    </tr>\n",
       "    <tr>\n",
       "      <th>3</th>\n",
       "      <td>1.313300</td>\n",
       "      <td>1.015775</td>\n",
       "      <td>-1.722789</td>\n",
       "      <td>-0.065576</td>\n",
       "      <td>-0.330268</td>\n",
       "      <td>1.643958</td>\n",
       "      <td>-1.141407</td>\n",
       "      <td>1.448162</td>\n",
       "      <td>-0.141609</td>\n",
       "    </tr>\n",
       "    <tr>\n",
       "      <th>4</th>\n",
       "      <td>-0.715262</td>\n",
       "      <td>0.381274</td>\n",
       "      <td>-0.079837</td>\n",
       "      <td>0.692165</td>\n",
       "      <td>0.650736</td>\n",
       "      <td>-0.742409</td>\n",
       "      <td>0.754728</td>\n",
       "      <td>-0.434261</td>\n",
       "      <td>0.667292</td>\n",
       "    </tr>\n",
       "  </tbody>\n",
       "</table>\n",
       "</div>"
      ],
      "text/plain": [
       "          0         1         2         3         4         5         6  \\\n",
       "0  1.064570 -1.879905  0.488233  0.037327 -1.358711  0.529778 -1.453746   \n",
       "1 -0.353725 -0.476615  0.122190  0.220848  0.098395 -0.127136  0.683256   \n",
       "2  0.043257  0.065384 -0.931973 -0.720129  0.317489  1.166462  0.711726   \n",
       "3  1.313300  1.015775 -1.722789 -0.065576 -0.330268  1.643958 -1.141407   \n",
       "4 -0.715262  0.381274 -0.079837  0.692165  0.650736 -0.742409  0.754728   \n",
       "\n",
       "          7         8  \n",
       "0  1.369290 -1.489653  \n",
       "1 -0.993390 -0.041833  \n",
       "2  0.189747  0.016370  \n",
       "3  1.448162 -0.141609  \n",
       "4 -0.434261  0.667292  "
      ]
     },
     "execution_count": 13,
     "metadata": {},
     "output_type": "execute_result"
    }
   ],
   "source": [
    "#Transforming the data\n",
    "from sklearn.preprocessing import PowerTransformer\n",
    "pt=PowerTransformer()\n",
    "p=pt.fit_transform(X)\n",
    "p1=pd.DataFrame(p)\n",
    "p1.head()"
   ]
  },
  {
   "cell_type": "code",
   "execution_count": 14,
   "metadata": {},
   "outputs": [
    {
     "data": {
      "text/html": [
       "<div>\n",
       "<style scoped>\n",
       "    .dataframe tbody tr th:only-of-type {\n",
       "        vertical-align: middle;\n",
       "    }\n",
       "\n",
       "    .dataframe tbody tr th {\n",
       "        vertical-align: top;\n",
       "    }\n",
       "\n",
       "    .dataframe thead th {\n",
       "        text-align: right;\n",
       "    }\n",
       "</style>\n",
       "<table border=\"1\" class=\"dataframe\">\n",
       "  <thead>\n",
       "    <tr style=\"text-align: right;\">\n",
       "      <th></th>\n",
       "      <th>0</th>\n",
       "      <th>1</th>\n",
       "      <th>2</th>\n",
       "      <th>3</th>\n",
       "      <th>4</th>\n",
       "      <th>5</th>\n",
       "      <th>6</th>\n",
       "      <th>7</th>\n",
       "      <th>8</th>\n",
       "    </tr>\n",
       "  </thead>\n",
       "  <tbody>\n",
       "    <tr>\n",
       "      <th>0</th>\n",
       "      <td>1.064570</td>\n",
       "      <td>-1.879905</td>\n",
       "      <td>0.488233</td>\n",
       "      <td>0.037327</td>\n",
       "      <td>-1.358711</td>\n",
       "      <td>0.529778</td>\n",
       "      <td>-1.453746</td>\n",
       "      <td>1.369290</td>\n",
       "      <td>-1.489653</td>\n",
       "    </tr>\n",
       "    <tr>\n",
       "      <th>1</th>\n",
       "      <td>-0.353725</td>\n",
       "      <td>-0.476615</td>\n",
       "      <td>0.122190</td>\n",
       "      <td>0.220848</td>\n",
       "      <td>0.098395</td>\n",
       "      <td>-0.127136</td>\n",
       "      <td>0.683256</td>\n",
       "      <td>-0.993390</td>\n",
       "      <td>-0.041833</td>\n",
       "    </tr>\n",
       "    <tr>\n",
       "      <th>2</th>\n",
       "      <td>0.043257</td>\n",
       "      <td>0.065384</td>\n",
       "      <td>-0.931973</td>\n",
       "      <td>-0.720129</td>\n",
       "      <td>0.317489</td>\n",
       "      <td>1.166462</td>\n",
       "      <td>0.711726</td>\n",
       "      <td>0.189747</td>\n",
       "      <td>0.016370</td>\n",
       "    </tr>\n",
       "    <tr>\n",
       "      <th>3</th>\n",
       "      <td>1.313300</td>\n",
       "      <td>1.015775</td>\n",
       "      <td>-1.722789</td>\n",
       "      <td>-0.065576</td>\n",
       "      <td>-0.330268</td>\n",
       "      <td>1.643958</td>\n",
       "      <td>-1.141407</td>\n",
       "      <td>1.448162</td>\n",
       "      <td>-0.141609</td>\n",
       "    </tr>\n",
       "    <tr>\n",
       "      <th>4</th>\n",
       "      <td>-0.715262</td>\n",
       "      <td>0.381274</td>\n",
       "      <td>-0.079837</td>\n",
       "      <td>0.692165</td>\n",
       "      <td>0.650736</td>\n",
       "      <td>-0.742409</td>\n",
       "      <td>0.754728</td>\n",
       "      <td>-0.434261</td>\n",
       "      <td>0.667292</td>\n",
       "    </tr>\n",
       "  </tbody>\n",
       "</table>\n",
       "</div>"
      ],
      "text/plain": [
       "          0         1         2         3         4         5         6  \\\n",
       "0  1.064570 -1.879905  0.488233  0.037327 -1.358711  0.529778 -1.453746   \n",
       "1 -0.353725 -0.476615  0.122190  0.220848  0.098395 -0.127136  0.683256   \n",
       "2  0.043257  0.065384 -0.931973 -0.720129  0.317489  1.166462  0.711726   \n",
       "3  1.313300  1.015775 -1.722789 -0.065576 -0.330268  1.643958 -1.141407   \n",
       "4 -0.715262  0.381274 -0.079837  0.692165  0.650736 -0.742409  0.754728   \n",
       "\n",
       "          7         8  \n",
       "0  1.369290 -1.489653  \n",
       "1 -0.993390 -0.041833  \n",
       "2  0.189747  0.016370  \n",
       "3  1.448162 -0.141609  \n",
       "4 -0.434261  0.667292  "
      ]
     },
     "execution_count": 14,
     "metadata": {},
     "output_type": "execute_result"
    }
   ],
   "source": [
    "#stardardizing the data\n",
    "from sklearn.preprocessing import StandardScaler\n",
    "sc=StandardScaler()\n",
    "s=sc.fit_transform(p1)\n",
    "df1=pd.DataFrame(s)\n",
    "df1.head()"
   ]
  },
  {
   "cell_type": "markdown",
   "metadata": {
    "colab_type": "text",
    "id": "x5zGlAlqvJAK"
   },
   "source": [
    "### \tDimensionality Reduction\n"
   ]
  },
  {
   "cell_type": "code",
   "execution_count": 15,
   "metadata": {
    "colab": {},
    "colab_type": "code",
    "id": "9Uj-jME7vJAL"
   },
   "outputs": [
    {
     "data": {
      "text/plain": [
       "<matplotlib.axes._subplots.AxesSubplot at 0x7fdf87de0ba8>"
      ]
     },
     "execution_count": 15,
     "metadata": {},
     "output_type": "execute_result"
    },
    {
     "data": {
      "image/png": "[encoded data removed]",
      "text/plain": [
       "<Figure size 720x360 with 2 Axes>"
      ]
     },
     "metadata": {
      "needs_background": "light"
     },
     "output_type": "display_data"
    }
   ],
   "source": [
    "# correlation plot\n",
    "plt.figure(figsize=(10,5))\n",
    "sns.heatmap(df1.corr(),annot=True)"
   ]
  },
  {
   "cell_type": "code",
   "execution_count": 16,
   "metadata": {},
   "outputs": [],
   "source": [
    "#There is some multicollinearity present in the dataset.So, due to this reason to reduce the multicollinearity effect\n",
    "#we will apply PCA."
   ]
  },
  {
   "cell_type": "code",
   "execution_count": 17,
   "metadata": {},
   "outputs": [
    {
     "data": {
      "text/plain": [
       "(1994, 9)"
      ]
     },
     "execution_count": 17,
     "metadata": {},
     "output_type": "execute_result"
    }
   ],
   "source": [
    "# Application of PCA\n",
    "#pca will all the variables\n",
    "from sklearn.decomposition import PCA\n",
    "model=PCA(n_components=9)\n",
    "pca_val=model.fit_transform(df1)\n",
    "pca_val.shape"
   ]
  },
  {
   "cell_type": "code",
   "execution_count": 18,
   "metadata": {},
   "outputs": [],
   "source": [
    "eigenvals=model.explained_variance_"
   ]
  },
  {
   "cell_type": "code",
   "execution_count": 19,
   "metadata": {},
   "outputs": [
    {
     "name": "stdout",
     "output_type": "stream",
     "text": [
      "Cummulative variance [ 58.18827331  74.58574938  87.30713199  93.15613578  96.96433641\n",
      "  98.44133739  99.35521559  99.85525147 100.        ]\n"
     ]
    }
   ],
   "source": [
    "tot=sum(eigenvals)\n",
    "var_exp=[(i/tot)*100 for i in sorted(eigenvals,reverse=True)]\n",
    "cum_var=np.cumsum(var_exp)\n",
    "print('Cummulative variance',cum_var)"
   ]
  },
  {
   "cell_type": "code",
   "execution_count": 20,
   "metadata": {},
   "outputs": [
    {
     "data": {
      "text/plain": [
       "(1994, 5)"
      ]
     },
     "execution_count": 20,
     "metadata": {},
     "output_type": "execute_result"
    }
   ],
   "source": [
    "#pca for 90% variance\n",
    "model=PCA(n_components=5)\n",
    "pca_val5=model.fit_transform(df1)\n",
    "pca_val5.shape"
   ]
  },
  {
   "cell_type": "code",
   "execution_count": 21,
   "metadata": {},
   "outputs": [],
   "source": [
    "eigenvals=model.explained_variance_"
   ]
  },
  {
   "cell_type": "code",
   "execution_count": 22,
   "metadata": {},
   "outputs": [
    {
     "name": "stdout",
     "output_type": "stream",
     "text": [
      "Cummulative variance [ 60.00997425  76.92080629  90.04045738  96.07257599 100.        ]\n"
     ]
    }
   ],
   "source": [
    "tot=sum(eigenvals)\n",
    "var_exp=[(i/tot)*100 for i in sorted(eigenvals,reverse=True)]\n",
    "cum_var=np.cumsum(var_exp)\n",
    "print('Cummulative variance',cum_var)"
   ]
  },
  {
   "cell_type": "code",
   "execution_count": 23,
   "metadata": {},
   "outputs": [],
   "source": [
    "#Therefore, 5 components contribute to 93% variance of the data."
   ]
  },
  {
   "cell_type": "code",
   "execution_count": 25,
   "metadata": {},
   "outputs": [
    {
     "data": {
      "text/html": [
       "<div>\n",
       "<style scoped>\n",
       "    .dataframe tbody tr th:only-of-type {\n",
       "        vertical-align: middle;\n",
       "    }\n",
       "\n",
       "    .dataframe tbody tr th {\n",
       "        vertical-align: top;\n",
       "    }\n",
       "\n",
       "    .dataframe thead th {\n",
       "        text-align: right;\n",
       "    }\n",
       "</style>\n",
       "<table border=\"1\" class=\"dataframe\">\n",
       "  <thead>\n",
       "    <tr style=\"text-align: right;\">\n",
       "      <th></th>\n",
       "      <th>child_mort</th>\n",
       "      <th>exports</th>\n",
       "      <th>health</th>\n",
       "      <th>imports</th>\n",
       "      <th>income</th>\n",
       "    </tr>\n",
       "  </thead>\n",
       "  <tbody>\n",
       "    <tr>\n",
       "      <th>0</th>\n",
       "      <td>90.2</td>\n",
       "      <td>10.0</td>\n",
       "      <td>7.58</td>\n",
       "      <td>44.9</td>\n",
       "      <td>1610</td>\n",
       "    </tr>\n",
       "    <tr>\n",
       "      <th>1</th>\n",
       "      <td>16.6</td>\n",
       "      <td>28.0</td>\n",
       "      <td>6.55</td>\n",
       "      <td>48.6</td>\n",
       "      <td>9930</td>\n",
       "    </tr>\n",
       "    <tr>\n",
       "      <th>2</th>\n",
       "      <td>27.3</td>\n",
       "      <td>38.4</td>\n",
       "      <td>4.17</td>\n",
       "      <td>31.4</td>\n",
       "      <td>12900</td>\n",
       "    </tr>\n",
       "    <tr>\n",
       "      <th>3</th>\n",
       "      <td>119.0</td>\n",
       "      <td>62.3</td>\n",
       "      <td>2.85</td>\n",
       "      <td>42.9</td>\n",
       "      <td>5900</td>\n",
       "    </tr>\n",
       "    <tr>\n",
       "      <th>4</th>\n",
       "      <td>10.3</td>\n",
       "      <td>45.5</td>\n",
       "      <td>6.03</td>\n",
       "      <td>58.9</td>\n",
       "      <td>19100</td>\n",
       "    </tr>\n",
       "  </tbody>\n",
       "</table>\n",
       "</div>"
      ],
      "text/plain": [
       "   child_mort  exports  health  imports  income\n",
       "0        90.2     10.0    7.58     44.9    1610\n",
       "1        16.6     28.0    6.55     48.6    9930\n",
       "2        27.3     38.4    4.17     31.4   12900\n",
       "3       119.0     62.3    2.85     42.9    5900\n",
       "4        10.3     45.5    6.03     58.9   19100"
      ]
     },
     "execution_count": 25,
     "metadata": {},
     "output_type": "execute_result"
    }
   ],
   "source": [
    "# Dataframe with pca components\n",
    "pca_df=X.iloc[:,:5]\n",
    "pca_df.head()"
   ]
  },
  {
   "cell_type": "code",
   "execution_count": 26,
   "metadata": {},
   "outputs": [
    {
     "data": {
      "text/html": [
       "<div>\n",
       "<style scoped>\n",
       "    .dataframe tbody tr th:only-of-type {\n",
       "        vertical-align: middle;\n",
       "    }\n",
       "\n",
       "    .dataframe tbody tr th {\n",
       "        vertical-align: top;\n",
       "    }\n",
       "\n",
       "    .dataframe thead th {\n",
       "        text-align: right;\n",
       "    }\n",
       "</style>\n",
       "<table border=\"1\" class=\"dataframe\">\n",
       "  <thead>\n",
       "    <tr style=\"text-align: right;\">\n",
       "      <th></th>\n",
       "      <th>child_mort</th>\n",
       "      <th>exports</th>\n",
       "      <th>health</th>\n",
       "      <th>imports</th>\n",
       "      <th>income</th>\n",
       "    </tr>\n",
       "  </thead>\n",
       "  <tbody>\n",
       "    <tr>\n",
       "      <th>child_mort</th>\n",
       "      <td>1.000000</td>\n",
       "      <td>-0.271367</td>\n",
       "      <td>-0.406499</td>\n",
       "      <td>-0.188822</td>\n",
       "      <td>-0.596205</td>\n",
       "    </tr>\n",
       "    <tr>\n",
       "      <th>exports</th>\n",
       "      <td>-0.271367</td>\n",
       "      <td>1.000000</td>\n",
       "      <td>-0.066722</td>\n",
       "      <td>0.686172</td>\n",
       "      <td>0.498937</td>\n",
       "    </tr>\n",
       "    <tr>\n",
       "      <th>health</th>\n",
       "      <td>-0.406499</td>\n",
       "      <td>-0.066722</td>\n",
       "      <td>1.000000</td>\n",
       "      <td>0.057098</td>\n",
       "      <td>0.373230</td>\n",
       "    </tr>\n",
       "    <tr>\n",
       "      <th>imports</th>\n",
       "      <td>-0.188822</td>\n",
       "      <td>0.686172</td>\n",
       "      <td>0.057098</td>\n",
       "      <td>1.000000</td>\n",
       "      <td>0.122371</td>\n",
       "    </tr>\n",
       "    <tr>\n",
       "      <th>income</th>\n",
       "      <td>-0.596205</td>\n",
       "      <td>0.498937</td>\n",
       "      <td>0.373230</td>\n",
       "      <td>0.122371</td>\n",
       "      <td>1.000000</td>\n",
       "    </tr>\n",
       "  </tbody>\n",
       "</table>\n",
       "</div>"
      ],
      "text/plain": [
       "            child_mort   exports    health   imports    income\n",
       "child_mort    1.000000 -0.271367 -0.406499 -0.188822 -0.596205\n",
       "exports      -0.271367  1.000000 -0.066722  0.686172  0.498937\n",
       "health       -0.406499 -0.066722  1.000000  0.057098  0.373230\n",
       "imports      -0.188822  0.686172  0.057098  1.000000  0.122371\n",
       "income       -0.596205  0.498937  0.373230  0.122371  1.000000"
      ]
     },
     "execution_count": 26,
     "metadata": {},
     "output_type": "execute_result"
    }
   ],
   "source": [
    "pca_df.corr()"
   ]
  },
  {
   "cell_type": "code",
   "execution_count": 27,
   "metadata": {},
   "outputs": [],
   "source": [
    "#Multicollinearity has been reduced in the pca component variables after the application of pca."
   ]
  },
  {
   "cell_type": "code",
   "execution_count": 28,
   "metadata": {},
   "outputs": [
    {
     "data": {
      "text/plain": [
       "<seaborn.axisgrid.PairGrid at 0x7fdf87d81208>"
      ]
     },
     "execution_count": 28,
     "metadata": {},
     "output_type": "execute_result"
    },
    {
     "data": {
      "image/png": "[encoded data removed]",
      "text/plain": [
       "<Figure size 900x900 with 30 Axes>"
      ]
     },
     "metadata": {
      "needs_background": "light"
     },
     "output_type": "display_data"
    }
   ],
   "source": [
    "# Spread of data\n",
    "sns.pairplot(pca_df)"
   ]
  },
  {
   "cell_type": "code",
   "execution_count": 29,
   "metadata": {},
   "outputs": [],
   "source": [
    "#All the pca components are randomly distributed."
   ]
  },
  {
   "cell_type": "code",
   "execution_count": 30,
   "metadata": {},
   "outputs": [
    {
     "data": {
      "image/png": "[encoded data removed]",
      "text/plain": [
       "<Figure size 432x288 with 1 Axes>"
      ]
     },
     "metadata": {
      "needs_background": "light"
     },
     "output_type": "display_data"
    }
   ],
   "source": [
    "#check for outliers\n",
    "pca_df.boxplot()\n",
    "plt.show()"
   ]
  },
  {
   "cell_type": "code",
   "execution_count": 31,
   "metadata": {},
   "outputs": [],
   "source": [
    "#There is presence of some outliers in the df containing pca components.We wont eliminate the outliers due to data loss."
   ]
  },
  {
   "cell_type": "markdown",
   "metadata": {
    "colab_type": "text",
    "id": "dqpOt_QcvJAP"
   },
   "source": [
    "### \tClustering: Using PCA dimensions to cluster the data. Applying K-means and Agglomerative clustering. \n",
    "\n",
    "\n",
    "a.\tApplying Clustering and visualizing the spread of data\n",
    "\n",
    "b.  Finding the optimal number of cluster Value. \n",
    "\n",
    "c.\tEvaluating the clusters formed using appropriate metrics (inertia, silhouette score) to support the model built and comparing both the models.\n",
    "\n",
    "d.\tUsing best attributes based on the relationship between them, ploting the clusters. \n"
   ]
  },
  {
   "cell_type": "code",
   "execution_count": 32,
   "metadata": {
    "colab": {},
    "colab_type": "code",
    "id": "gcY0W696vJAQ"
   },
   "outputs": [
    {
     "data": {
      "text/html": [
       "<div>\n",
       "<style scoped>\n",
       "    .dataframe tbody tr th:only-of-type {\n",
       "        vertical-align: middle;\n",
       "    }\n",
       "\n",
       "    .dataframe tbody tr th {\n",
       "        vertical-align: top;\n",
       "    }\n",
       "\n",
       "    .dataframe thead th {\n",
       "        text-align: right;\n",
       "    }\n",
       "</style>\n",
       "<table border=\"1\" class=\"dataframe\">\n",
       "  <thead>\n",
       "    <tr style=\"text-align: right;\">\n",
       "      <th></th>\n",
       "      <th>n_clusters</th>\n",
       "      <th>cluster_errors</th>\n",
       "    </tr>\n",
       "  </thead>\n",
       "  <tbody>\n",
       "    <tr>\n",
       "      <th>0</th>\n",
       "      <td>1</td>\n",
       "      <td>17946.000000</td>\n",
       "    </tr>\n",
       "    <tr>\n",
       "      <th>1</th>\n",
       "      <td>2</td>\n",
       "      <td>10279.010978</td>\n",
       "    </tr>\n",
       "    <tr>\n",
       "      <th>2</th>\n",
       "      <td>3</td>\n",
       "      <td>8036.197885</td>\n",
       "    </tr>\n",
       "    <tr>\n",
       "      <th>3</th>\n",
       "      <td>4</td>\n",
       "      <td>6830.237941</td>\n",
       "    </tr>\n",
       "    <tr>\n",
       "      <th>4</th>\n",
       "      <td>5</td>\n",
       "      <td>5880.571042</td>\n",
       "    </tr>\n",
       "    <tr>\n",
       "      <th>5</th>\n",
       "      <td>6</td>\n",
       "      <td>5198.537887</td>\n",
       "    </tr>\n",
       "    <tr>\n",
       "      <th>6</th>\n",
       "      <td>7</td>\n",
       "      <td>4836.977738</td>\n",
       "    </tr>\n",
       "    <tr>\n",
       "      <th>7</th>\n",
       "      <td>8</td>\n",
       "      <td>4704.137714</td>\n",
       "    </tr>\n",
       "    <tr>\n",
       "      <th>8</th>\n",
       "      <td>9</td>\n",
       "      <td>4379.998894</td>\n",
       "    </tr>\n",
       "    <tr>\n",
       "      <th>9</th>\n",
       "      <td>10</td>\n",
       "      <td>4067.142536</td>\n",
       "    </tr>\n",
       "    <tr>\n",
       "      <th>10</th>\n",
       "      <td>11</td>\n",
       "      <td>3823.398626</td>\n",
       "    </tr>\n",
       "    <tr>\n",
       "      <th>11</th>\n",
       "      <td>12</td>\n",
       "      <td>3609.924272</td>\n",
       "    </tr>\n",
       "    <tr>\n",
       "      <th>12</th>\n",
       "      <td>13</td>\n",
       "      <td>3404.899077</td>\n",
       "    </tr>\n",
       "    <tr>\n",
       "      <th>13</th>\n",
       "      <td>14</td>\n",
       "      <td>3211.931306</td>\n",
       "    </tr>\n",
       "  </tbody>\n",
       "</table>\n",
       "</div>"
      ],
      "text/plain": [
       "    n_clusters  cluster_errors\n",
       "0            1    17946.000000\n",
       "1            2    10279.010978\n",
       "2            3     8036.197885\n",
       "3            4     6830.237941\n",
       "4            5     5880.571042\n",
       "5            6     5198.537887\n",
       "6            7     4836.977738\n",
       "7            8     4704.137714\n",
       "8            9     4379.998894\n",
       "9           10     4067.142536\n",
       "10          11     3823.398626\n",
       "11          12     3609.924272\n",
       "12          13     3404.899077\n",
       "13          14     3211.931306"
      ]
     },
     "execution_count": 32,
     "metadata": {},
     "output_type": "execute_result"
    }
   ],
   "source": [
    "#clustering\n",
    "from sklearn.cluster import KMeans\n",
    "cluster_range=range(1,15)\n",
    "cluster_errors=[]\n",
    "for num_clusters in cluster_range:\n",
    "    clusters=KMeans(num_clusters,n_init=5,random_state=10)\n",
    "    clusters.fit(df1)\n",
    "    labels=clusters.labels_\n",
    "    centroids=clusters.cluster_centers_\n",
    "    cluster_errors.append(clusters.inertia_)\n",
    "clusters_df=pd.DataFrame({'n_clusters':cluster_range,'cluster_errors':cluster_errors})\n",
    "clusters_df[:15]"
   ]
  },
  {
   "cell_type": "code",
   "execution_count": 33,
   "metadata": {},
   "outputs": [
    {
     "data": {
      "image/png": "[encoded data removed]",
      "text/plain": [
       "<Figure size 864x360 with 1 Axes>"
      ]
     },
     "metadata": {
      "needs_background": "light"
     },
     "output_type": "display_data"
    }
   ],
   "source": [
    "plt.figure(figsize=[12,5])\n",
    "plt.plot(clusters_df.n_clusters,clusters_df.cluster_errors,marker='o')\n",
    "plt.show()"
   ]
  },
  {
   "cell_type": "code",
   "execution_count": 34,
   "metadata": {},
   "outputs": [],
   "source": [
    "#From this we can observe a bend at 2.Therefore, we will be considering our k value as 2."
   ]
  },
  {
   "cell_type": "code",
   "execution_count": 35,
   "metadata": {},
   "outputs": [
    {
     "data": {
      "text/html": [
       "<div>\n",
       "<style scoped>\n",
       "    .dataframe tbody tr th:only-of-type {\n",
       "        vertical-align: middle;\n",
       "    }\n",
       "\n",
       "    .dataframe tbody tr th {\n",
       "        vertical-align: top;\n",
       "    }\n",
       "\n",
       "    .dataframe thead th {\n",
       "        text-align: right;\n",
       "    }\n",
       "</style>\n",
       "<table border=\"1\" class=\"dataframe\">\n",
       "  <thead>\n",
       "    <tr style=\"text-align: right;\">\n",
       "      <th></th>\n",
       "      <th>child_mort</th>\n",
       "      <th>exports</th>\n",
       "      <th>health</th>\n",
       "      <th>imports</th>\n",
       "      <th>income</th>\n",
       "      <th>inflation</th>\n",
       "      <th>life_expec</th>\n",
       "      <th>total_fer</th>\n",
       "      <th>gdpp</th>\n",
       "      <th>label</th>\n",
       "    </tr>\n",
       "  </thead>\n",
       "  <tbody>\n",
       "    <tr>\n",
       "      <th>0</th>\n",
       "      <td>90.2</td>\n",
       "      <td>10.0</td>\n",
       "      <td>7.58</td>\n",
       "      <td>44.9</td>\n",
       "      <td>1610</td>\n",
       "      <td>9.44</td>\n",
       "      <td>56.2</td>\n",
       "      <td>5.82</td>\n",
       "      <td>553</td>\n",
       "      <td>1</td>\n",
       "    </tr>\n",
       "    <tr>\n",
       "      <th>1</th>\n",
       "      <td>16.6</td>\n",
       "      <td>28.0</td>\n",
       "      <td>6.55</td>\n",
       "      <td>48.6</td>\n",
       "      <td>9930</td>\n",
       "      <td>4.49</td>\n",
       "      <td>76.3</td>\n",
       "      <td>1.65</td>\n",
       "      <td>4090</td>\n",
       "      <td>0</td>\n",
       "    </tr>\n",
       "    <tr>\n",
       "      <th>2</th>\n",
       "      <td>27.3</td>\n",
       "      <td>38.4</td>\n",
       "      <td>4.17</td>\n",
       "      <td>31.4</td>\n",
       "      <td>12900</td>\n",
       "      <td>16.10</td>\n",
       "      <td>76.5</td>\n",
       "      <td>2.89</td>\n",
       "      <td>4460</td>\n",
       "      <td>1</td>\n",
       "    </tr>\n",
       "    <tr>\n",
       "      <th>3</th>\n",
       "      <td>119.0</td>\n",
       "      <td>62.3</td>\n",
       "      <td>2.85</td>\n",
       "      <td>42.9</td>\n",
       "      <td>5900</td>\n",
       "      <td>22.40</td>\n",
       "      <td>60.1</td>\n",
       "      <td>6.16</td>\n",
       "      <td>3530</td>\n",
       "      <td>1</td>\n",
       "    </tr>\n",
       "    <tr>\n",
       "      <th>4</th>\n",
       "      <td>10.3</td>\n",
       "      <td>45.5</td>\n",
       "      <td>6.03</td>\n",
       "      <td>58.9</td>\n",
       "      <td>19100</td>\n",
       "      <td>1.44</td>\n",
       "      <td>76.8</td>\n",
       "      <td>2.13</td>\n",
       "      <td>12200</td>\n",
       "      <td>0</td>\n",
       "    </tr>\n",
       "  </tbody>\n",
       "</table>\n",
       "</div>"
      ],
      "text/plain": [
       "   child_mort  exports  health  imports  income  inflation  life_expec  \\\n",
       "0        90.2     10.0    7.58     44.9    1610       9.44        56.2   \n",
       "1        16.6     28.0    6.55     48.6    9930       4.49        76.3   \n",
       "2        27.3     38.4    4.17     31.4   12900      16.10        76.5   \n",
       "3       119.0     62.3    2.85     42.9    5900      22.40        60.1   \n",
       "4        10.3     45.5    6.03     58.9   19100       1.44        76.8   \n",
       "\n",
       "   total_fer   gdpp  label  \n",
       "0       5.82    553      1  \n",
       "1       1.65   4090      0  \n",
       "2       2.89   4460      1  \n",
       "3       6.16   3530      1  \n",
       "4       2.13  12200      0  "
      ]
     },
     "execution_count": 35,
     "metadata": {},
     "output_type": "execute_result"
    }
   ],
   "source": [
    "#Fitting kmeans value based on elbow plot\n",
    "kmeans=KMeans(n_clusters=2)\n",
    "m1=kmeans.fit(df1)\n",
    "clusters=m1.predict(df1)\n",
    "df_k=X.copy(deep=True)\n",
    "df_k['label']=clusters\n",
    "df_k.head()"
   ]
  },
  {
   "cell_type": "code",
   "execution_count": 36,
   "metadata": {},
   "outputs": [
    {
     "data": {
      "text/html": [
       "<div>\n",
       "<style scoped>\n",
       "    .dataframe tbody tr th:only-of-type {\n",
       "        vertical-align: middle;\n",
       "    }\n",
       "\n",
       "    .dataframe tbody tr th {\n",
       "        vertical-align: top;\n",
       "    }\n",
       "\n",
       "    .dataframe thead th {\n",
       "        text-align: right;\n",
       "    }\n",
       "</style>\n",
       "<table border=\"1\" class=\"dataframe\">\n",
       "  <thead>\n",
       "    <tr style=\"text-align: right;\">\n",
       "      <th></th>\n",
       "      <th>0</th>\n",
       "      <th>1</th>\n",
       "      <th>2</th>\n",
       "      <th>3</th>\n",
       "      <th>4</th>\n",
       "      <th>5</th>\n",
       "      <th>6</th>\n",
       "      <th>7</th>\n",
       "      <th>8</th>\n",
       "    </tr>\n",
       "  </thead>\n",
       "  <tbody>\n",
       "    <tr>\n",
       "      <th>0</th>\n",
       "      <td>-0.88727</td>\n",
       "      <td>0.315891</td>\n",
       "      <td>0.488866</td>\n",
       "      <td>0.032596</td>\n",
       "      <td>0.817496</td>\n",
       "      <td>-0.422134</td>\n",
       "      <td>0.852341</td>\n",
       "      <td>-0.834481</td>\n",
       "      <td>0.813946</td>\n",
       "    </tr>\n",
       "    <tr>\n",
       "      <th>1</th>\n",
       "      <td>0.84048</td>\n",
       "      <td>-0.299232</td>\n",
       "      <td>-0.463086</td>\n",
       "      <td>-0.030877</td>\n",
       "      <td>-0.774386</td>\n",
       "      <td>0.399873</td>\n",
       "      <td>-0.807393</td>\n",
       "      <td>0.790475</td>\n",
       "      <td>-0.771023</td>\n",
       "    </tr>\n",
       "  </tbody>\n",
       "</table>\n",
       "</div>"
      ],
      "text/plain": [
       "         0         1         2         3         4         5         6  \\\n",
       "0 -0.88727  0.315891  0.488866  0.032596  0.817496 -0.422134  0.852341   \n",
       "1  0.84048 -0.299232 -0.463086 -0.030877 -0.774386  0.399873 -0.807393   \n",
       "\n",
       "          7         8  \n",
       "0 -0.834481  0.813946  \n",
       "1  0.790475 -0.771023  "
      ]
     },
     "execution_count": 36,
     "metadata": {},
     "output_type": "execute_result"
    }
   ],
   "source": [
    "df_centers=pd.DataFrame(m1.cluster_centers_)\n",
    "df_centers"
   ]
  },
  {
   "cell_type": "code",
   "execution_count": 37,
   "metadata": {},
   "outputs": [
    {
     "data": {
      "text/plain": [
       "10279.290258701705"
      ]
     },
     "execution_count": 37,
     "metadata": {},
     "output_type": "execute_result"
    }
   ],
   "source": [
    "m1.inertia_"
   ]
  },
  {
   "cell_type": "code",
   "execution_count": 38,
   "metadata": {},
   "outputs": [
    {
     "data": {
      "text/plain": [
       "1    1024\n",
       "0     970\n",
       "Name: label, dtype: int64"
      ]
     },
     "execution_count": 38,
     "metadata": {},
     "output_type": "execute_result"
    }
   ],
   "source": [
    "df_k['label'].value_counts()"
   ]
  },
  {
   "cell_type": "code",
   "execution_count": 39,
   "metadata": {},
   "outputs": [],
   "source": [
    "#Spread of data for 2 clusters."
   ]
  },
  {
   "cell_type": "code",
   "execution_count": 40,
   "metadata": {},
   "outputs": [
    {
     "data": {
      "text/plain": [
       "0.3678729427773526"
      ]
     },
     "execution_count": 40,
     "metadata": {},
     "output_type": "execute_result"
    }
   ],
   "source": [
    "from sklearn.metrics import silhouette_samples,silhouette_score\n",
    "x=df1.values\n",
    "silhouette_score(x,clusters)"
   ]
  },
  {
   "cell_type": "code",
   "execution_count": 41,
   "metadata": {},
   "outputs": [
    {
     "data": {
      "image/png": "[encoded data removed]",
      "text/plain": [
       "<Figure size 1296x1152 with 1 Axes>"
      ]
     },
     "metadata": {
      "needs_background": "light"
     },
     "output_type": "display_data"
    }
   ],
   "source": [
    "#dendrogram\n",
    "from scipy.cluster.hierarchy import dendrogram,linkage\n",
    "from scipy.spatial.distance import pdist\n",
    "plt.figure(figsize=(18,16))\n",
    "plt.xlabel('sample index')\n",
    "plt.ylabel('distance')\n",
    "z=linkage(df1,'ward')\n",
    "dendrogram(z,leaf_rotation=90.0,p=30,color_threshold=70,leaf_font_size=10,truncate_mode='level')\n",
    "plt.tight_layout()"
   ]
  },
  {
   "cell_type": "code",
   "execution_count": 42,
   "metadata": {},
   "outputs": [],
   "source": [
    "#From the dendrogram we can observe the presence of just 2 clusters evidently."
   ]
  },
  {
   "cell_type": "code",
   "execution_count": 43,
   "metadata": {},
   "outputs": [
    {
     "data": {
      "text/plain": [
       "0    1441\n",
       "1     553\n",
       "Name: label, dtype: int64"
      ]
     },
     "execution_count": 43,
     "metadata": {},
     "output_type": "execute_result"
    }
   ],
   "source": [
    "#agglomerative clustering\n",
    "from sklearn.cluster import AgglomerativeClustering\n",
    "hie_clus=AgglomerativeClustering(n_clusters=2,affinity='euclidean',linkage='ward')\n",
    "cluster2=hie_clus.fit_predict(df1)\n",
    "df_h=X.copy(deep=True)\n",
    "df_h['label']=cluster2\n",
    "df_h['label'].value_counts()"
   ]
  },
  {
   "cell_type": "code",
   "execution_count": 44,
   "metadata": {},
   "outputs": [
    {
     "data": {
      "text/html": [
       "<div>\n",
       "<style scoped>\n",
       "    .dataframe tbody tr th:only-of-type {\n",
       "        vertical-align: middle;\n",
       "    }\n",
       "\n",
       "    .dataframe tbody tr th {\n",
       "        vertical-align: top;\n",
       "    }\n",
       "\n",
       "    .dataframe thead th {\n",
       "        text-align: right;\n",
       "    }\n",
       "</style>\n",
       "<table border=\"1\" class=\"dataframe\">\n",
       "  <thead>\n",
       "    <tr style=\"text-align: right;\">\n",
       "      <th></th>\n",
       "      <th>n_clusters</th>\n",
       "      <th>cluster_errors</th>\n",
       "    </tr>\n",
       "  </thead>\n",
       "  <tbody>\n",
       "    <tr>\n",
       "      <th>0</th>\n",
       "      <td>1</td>\n",
       "      <td>17401.219811</td>\n",
       "    </tr>\n",
       "    <tr>\n",
       "      <th>1</th>\n",
       "      <td>2</td>\n",
       "      <td>9736.511160</td>\n",
       "    </tr>\n",
       "    <tr>\n",
       "      <th>2</th>\n",
       "      <td>3</td>\n",
       "      <td>7497.758439</td>\n",
       "    </tr>\n",
       "    <tr>\n",
       "      <th>3</th>\n",
       "      <td>4</td>\n",
       "      <td>6292.135425</td>\n",
       "    </tr>\n",
       "    <tr>\n",
       "      <th>4</th>\n",
       "      <td>5</td>\n",
       "      <td>5345.555823</td>\n",
       "    </tr>\n",
       "    <tr>\n",
       "      <th>5</th>\n",
       "      <td>6</td>\n",
       "      <td>4670.186461</td>\n",
       "    </tr>\n",
       "    <tr>\n",
       "      <th>6</th>\n",
       "      <td>7</td>\n",
       "      <td>4320.897688</td>\n",
       "    </tr>\n",
       "    <tr>\n",
       "      <th>7</th>\n",
       "      <td>8</td>\n",
       "      <td>4066.488383</td>\n",
       "    </tr>\n",
       "    <tr>\n",
       "      <th>8</th>\n",
       "      <td>9</td>\n",
       "      <td>3728.475492</td>\n",
       "    </tr>\n",
       "    <tr>\n",
       "      <th>9</th>\n",
       "      <td>10</td>\n",
       "      <td>3488.801449</td>\n",
       "    </tr>\n",
       "    <tr>\n",
       "      <th>10</th>\n",
       "      <td>11</td>\n",
       "      <td>3310.563656</td>\n",
       "    </tr>\n",
       "    <tr>\n",
       "      <th>11</th>\n",
       "      <td>12</td>\n",
       "      <td>3116.228247</td>\n",
       "    </tr>\n",
       "    <tr>\n",
       "      <th>12</th>\n",
       "      <td>13</td>\n",
       "      <td>2953.991900</td>\n",
       "    </tr>\n",
       "    <tr>\n",
       "      <th>13</th>\n",
       "      <td>14</td>\n",
       "      <td>2823.416049</td>\n",
       "    </tr>\n",
       "  </tbody>\n",
       "</table>\n",
       "</div>"
      ],
      "text/plain": [
       "    n_clusters  cluster_errors\n",
       "0            1    17401.219811\n",
       "1            2     9736.511160\n",
       "2            3     7497.758439\n",
       "3            4     6292.135425\n",
       "4            5     5345.555823\n",
       "5            6     4670.186461\n",
       "6            7     4320.897688\n",
       "7            8     4066.488383\n",
       "8            9     3728.475492\n",
       "9           10     3488.801449\n",
       "10          11     3310.563656\n",
       "11          12     3116.228247\n",
       "12          13     2953.991900\n",
       "13          14     2823.416049"
      ]
     },
     "execution_count": 44,
     "metadata": {},
     "output_type": "execute_result"
    }
   ],
   "source": [
    "#elbow plot for pca with optimum number of components\n",
    "from sklearn.cluster import KMeans\n",
    "cluster_range=range(1,15)\n",
    "cluster_errors=[]\n",
    "for num_clusters in cluster_range:\n",
    "    clusters_pca=KMeans(num_clusters,n_init=5,random_state=10)\n",
    "    clusters_pca.fit(pca_val5)\n",
    "    labels=clusters_pca.labels_\n",
    "    centroids=clusters_pca.cluster_centers_\n",
    "    cluster_errors.append(clusters_pca.inertia_)\n",
    "clusters_df=pd.DataFrame({'n_clusters':cluster_range,'cluster_errors':cluster_errors})\n",
    "clusters_df[:15]"
   ]
  },
  {
   "cell_type": "code",
   "execution_count": 45,
   "metadata": {},
   "outputs": [
    {
     "data": {
      "image/png": "[encoded data removed]",
      "text/plain": [
       "<Figure size 864x360 with 1 Axes>"
      ]
     },
     "metadata": {
      "needs_background": "light"
     },
     "output_type": "display_data"
    }
   ],
   "source": [
    "plt.figure(figsize=[12,5])\n",
    "plt.plot(clusters_df.n_clusters,clusters_df.cluster_errors,marker='o')\n",
    "plt.show()"
   ]
  },
  {
   "cell_type": "code",
   "execution_count": 46,
   "metadata": {},
   "outputs": [
    {
     "data": {
      "text/html": [
       "<div>\n",
       "<style scoped>\n",
       "    .dataframe tbody tr th:only-of-type {\n",
       "        vertical-align: middle;\n",
       "    }\n",
       "\n",
       "    .dataframe tbody tr th {\n",
       "        vertical-align: top;\n",
       "    }\n",
       "\n",
       "    .dataframe thead th {\n",
       "        text-align: right;\n",
       "    }\n",
       "</style>\n",
       "<table border=\"1\" class=\"dataframe\">\n",
       "  <thead>\n",
       "    <tr style=\"text-align: right;\">\n",
       "      <th></th>\n",
       "      <th>child_mort</th>\n",
       "      <th>exports</th>\n",
       "      <th>health</th>\n",
       "      <th>imports</th>\n",
       "      <th>income</th>\n",
       "      <th>inflation</th>\n",
       "      <th>life_expec</th>\n",
       "      <th>total_fer</th>\n",
       "      <th>gdpp</th>\n",
       "      <th>label</th>\n",
       "    </tr>\n",
       "  </thead>\n",
       "  <tbody>\n",
       "    <tr>\n",
       "      <th>0</th>\n",
       "      <td>90.2</td>\n",
       "      <td>10.0</td>\n",
       "      <td>7.58</td>\n",
       "      <td>44.9</td>\n",
       "      <td>1610</td>\n",
       "      <td>9.44</td>\n",
       "      <td>56.2</td>\n",
       "      <td>5.82</td>\n",
       "      <td>553</td>\n",
       "      <td>1</td>\n",
       "    </tr>\n",
       "    <tr>\n",
       "      <th>1</th>\n",
       "      <td>16.6</td>\n",
       "      <td>28.0</td>\n",
       "      <td>6.55</td>\n",
       "      <td>48.6</td>\n",
       "      <td>9930</td>\n",
       "      <td>4.49</td>\n",
       "      <td>76.3</td>\n",
       "      <td>1.65</td>\n",
       "      <td>4090</td>\n",
       "      <td>0</td>\n",
       "    </tr>\n",
       "    <tr>\n",
       "      <th>2</th>\n",
       "      <td>27.3</td>\n",
       "      <td>38.4</td>\n",
       "      <td>4.17</td>\n",
       "      <td>31.4</td>\n",
       "      <td>12900</td>\n",
       "      <td>16.10</td>\n",
       "      <td>76.5</td>\n",
       "      <td>2.89</td>\n",
       "      <td>4460</td>\n",
       "      <td>1</td>\n",
       "    </tr>\n",
       "    <tr>\n",
       "      <th>3</th>\n",
       "      <td>119.0</td>\n",
       "      <td>62.3</td>\n",
       "      <td>2.85</td>\n",
       "      <td>42.9</td>\n",
       "      <td>5900</td>\n",
       "      <td>22.40</td>\n",
       "      <td>60.1</td>\n",
       "      <td>6.16</td>\n",
       "      <td>3530</td>\n",
       "      <td>1</td>\n",
       "    </tr>\n",
       "    <tr>\n",
       "      <th>4</th>\n",
       "      <td>10.3</td>\n",
       "      <td>45.5</td>\n",
       "      <td>6.03</td>\n",
       "      <td>58.9</td>\n",
       "      <td>19100</td>\n",
       "      <td>1.44</td>\n",
       "      <td>76.8</td>\n",
       "      <td>2.13</td>\n",
       "      <td>12200</td>\n",
       "      <td>0</td>\n",
       "    </tr>\n",
       "  </tbody>\n",
       "</table>\n",
       "</div>"
      ],
      "text/plain": [
       "   child_mort  exports  health  imports  income  inflation  life_expec  \\\n",
       "0        90.2     10.0    7.58     44.9    1610       9.44        56.2   \n",
       "1        16.6     28.0    6.55     48.6    9930       4.49        76.3   \n",
       "2        27.3     38.4    4.17     31.4   12900      16.10        76.5   \n",
       "3       119.0     62.3    2.85     42.9    5900      22.40        60.1   \n",
       "4        10.3     45.5    6.03     58.9   19100       1.44        76.8   \n",
       "\n",
       "   total_fer   gdpp  label  \n",
       "0       5.82    553      1  \n",
       "1       1.65   4090      0  \n",
       "2       2.89   4460      1  \n",
       "3       6.16   3530      1  \n",
       "4       2.13  12200      0  "
      ]
     },
     "execution_count": 46,
     "metadata": {},
     "output_type": "execute_result"
    }
   ],
   "source": [
    "#kmeans for pca with optimum components\n",
    "kmeans=KMeans(n_clusters=2)\n",
    "m_pca=kmeans.fit(pca_val5)\n",
    "clusters_pca=m_pca.predict(pca_val5)\n",
    "df_k_pca=X.copy(deep=True)\n",
    "df_k_pca['label']=clusters_pca\n",
    "df_k_pca.head()"
   ]
  },
  {
   "cell_type": "code",
   "execution_count": 47,
   "metadata": {},
   "outputs": [
    {
     "data": {
      "image/png": "[encoded data removed]",
      "text/plain": [
       "<Figure size 1080x576 with 1 Axes>"
      ]
     },
     "metadata": {
      "needs_background": "light"
     },
     "output_type": "display_data"
    }
   ],
   "source": [
    "from mpl_toolkits.mplot3d import Axes3D\n",
    "fig=plt.figure(1,figsize=(15,8))\n",
    "ax=Axes3D(fig,elev=150,azim=110)\n",
    "x_reduced=PCA(n_components=5).fit_transform(df1)\n",
    "ax.scatter(x_reduced[:,0],x_reduced[:,1],c=m_pca.labels_,cmap=plt.cm.Set1,edgecolor='k',s=40)\n",
    "ax.set_title('First 3 pca directions')\n",
    "ax.set_xlabel('1st eigen vector')\n",
    "ax.w_xaxis.set_ticklabels([])\n",
    "ax.set_ylabel('2nd eigen vector')\n",
    "ax.w_yaxis.set_ticklabels([])\n",
    "ax.set_ylabel('3rd eigen vector')\n",
    "ax.w_zaxis.set_ticklabels([])\n",
    "plt.show()"
   ]
  },
  {
   "cell_type": "code",
   "execution_count": 48,
   "metadata": {},
   "outputs": [
    {
     "data": {
      "image/png": "[encoded data removed]",
      "text/plain": [
       "<Figure size 432x288 with 1 Axes>"
      ]
     },
     "metadata": {
      "needs_background": "light"
     },
     "output_type": "display_data"
    }
   ],
   "source": [
    "plt.scatter(x_reduced[:,0],x_reduced[:,1],c=m_pca.labels_,cmap=plt.cm.Set1)\n",
    "plt.show()"
   ]
  },
  {
   "cell_type": "code",
   "execution_count": 49,
   "metadata": {},
   "outputs": [],
   "source": [
    "#comparison of inertia and silhuotte score for models with and without pca"
   ]
  },
  {
   "cell_type": "markdown",
   "metadata": {},
   "source": [
    "Model without pca (metrics)"
   ]
  },
  {
   "cell_type": "code",
   "execution_count": 50,
   "metadata": {},
   "outputs": [
    {
     "data": {
      "text/plain": [
       "10279.290258701705"
      ]
     },
     "execution_count": 50,
     "metadata": {},
     "output_type": "execute_result"
    }
   ],
   "source": [
    "m1.inertia_"
   ]
  },
  {
   "cell_type": "code",
   "execution_count": 51,
   "metadata": {},
   "outputs": [
    {
     "data": {
      "text/plain": [
       "0.3678729427773526"
      ]
     },
     "execution_count": 51,
     "metadata": {},
     "output_type": "execute_result"
    }
   ],
   "source": [
    "from sklearn.metrics import silhouette_samples,silhouette_score\n",
    "x=df1.values\n",
    "silhouette_score(x,clusters)"
   ]
  },
  {
   "cell_type": "markdown",
   "metadata": {},
   "source": [
    "Model with pca(metrics)"
   ]
  },
  {
   "cell_type": "code",
   "execution_count": 52,
   "metadata": {},
   "outputs": [
    {
     "data": {
      "text/plain": [
       "9736.511159888609"
      ]
     },
     "execution_count": 52,
     "metadata": {},
     "output_type": "execute_result"
    }
   ],
   "source": [
    "m_pca.inertia_"
   ]
  },
  {
   "cell_type": "code",
   "execution_count": 53,
   "metadata": {},
   "outputs": [
    {
     "data": {
      "text/plain": [
       "0.436110228662514"
      ]
     },
     "execution_count": 53,
     "metadata": {},
     "output_type": "execute_result"
    }
   ],
   "source": [
    "from sklearn.metrics import silhouette_samples,silhouette_score\n",
    "x=pca_df.values\n",
    "silhouette_score(x,clusters_pca)"
   ]
  },
  {
   "cell_type": "code",
   "execution_count": 54,
   "metadata": {},
   "outputs": [
    {
     "data": {
      "text/plain": [
       "1    1024\n",
       "0     970\n",
       "Name: label, dtype: int64"
      ]
     },
     "execution_count": 54,
     "metadata": {},
     "output_type": "execute_result"
    }
   ],
   "source": [
    "df_k['label'].value_counts()"
   ]
  },
  {
   "cell_type": "code",
   "execution_count": 55,
   "metadata": {},
   "outputs": [
    {
     "name": "stdout",
     "output_type": "stream",
     "text": [
      "Kmeans data class\n",
      "1    1024\n",
      "0     970\n",
      "Name: label, dtype: int64\n"
     ]
    }
   ],
   "source": [
    "#Comparison between both the models\n",
    "print('Kmeans data class')\n",
    "print(df_k.label.value_counts())"
   ]
  },
  {
   "cell_type": "code",
   "execution_count": 56,
   "metadata": {},
   "outputs": [
    {
     "name": "stdout",
     "output_type": "stream",
     "text": [
      "Hierarchical data class\n",
      "0    1441\n",
      "1     553\n",
      "Name: label, dtype: int64\n"
     ]
    }
   ],
   "source": [
    "print('Hierarchical data class')\n",
    "print(df_h.label.value_counts())"
   ]
  },
  {
   "cell_type": "code",
   "execution_count": 57,
   "metadata": {},
   "outputs": [
    {
     "data": {
      "text/html": [
       "<div>\n",
       "<style scoped>\n",
       "    .dataframe tbody tr th:only-of-type {\n",
       "        vertical-align: middle;\n",
       "    }\n",
       "\n",
       "    .dataframe tbody tr th {\n",
       "        vertical-align: top;\n",
       "    }\n",
       "\n",
       "    .dataframe thead th {\n",
       "        text-align: right;\n",
       "    }\n",
       "</style>\n",
       "<table border=\"1\" class=\"dataframe\">\n",
       "  <thead>\n",
       "    <tr style=\"text-align: right;\">\n",
       "      <th></th>\n",
       "      <th>country</th>\n",
       "      <th>child_mort</th>\n",
       "      <th>exports</th>\n",
       "      <th>health</th>\n",
       "      <th>imports</th>\n",
       "      <th>income</th>\n",
       "      <th>inflation</th>\n",
       "      <th>life_expec</th>\n",
       "      <th>total_fer</th>\n",
       "      <th>gdpp</th>\n",
       "      <th>label</th>\n",
       "    </tr>\n",
       "  </thead>\n",
       "  <tbody>\n",
       "    <tr>\n",
       "      <th>0</th>\n",
       "      <td>Afghanistan</td>\n",
       "      <td>90.2</td>\n",
       "      <td>10.0</td>\n",
       "      <td>7.58</td>\n",
       "      <td>44.9</td>\n",
       "      <td>1610</td>\n",
       "      <td>9.44</td>\n",
       "      <td>56.2</td>\n",
       "      <td>5.82</td>\n",
       "      <td>553</td>\n",
       "      <td>1</td>\n",
       "    </tr>\n",
       "    <tr>\n",
       "      <th>1</th>\n",
       "      <td>Albania</td>\n",
       "      <td>16.6</td>\n",
       "      <td>28.0</td>\n",
       "      <td>6.55</td>\n",
       "      <td>48.6</td>\n",
       "      <td>9930</td>\n",
       "      <td>4.49</td>\n",
       "      <td>76.3</td>\n",
       "      <td>1.65</td>\n",
       "      <td>4090</td>\n",
       "      <td>0</td>\n",
       "    </tr>\n",
       "    <tr>\n",
       "      <th>2</th>\n",
       "      <td>Algeria</td>\n",
       "      <td>27.3</td>\n",
       "      <td>38.4</td>\n",
       "      <td>4.17</td>\n",
       "      <td>31.4</td>\n",
       "      <td>12900</td>\n",
       "      <td>16.10</td>\n",
       "      <td>76.5</td>\n",
       "      <td>2.89</td>\n",
       "      <td>4460</td>\n",
       "      <td>1</td>\n",
       "    </tr>\n",
       "    <tr>\n",
       "      <th>3</th>\n",
       "      <td>Angola</td>\n",
       "      <td>119.0</td>\n",
       "      <td>62.3</td>\n",
       "      <td>2.85</td>\n",
       "      <td>42.9</td>\n",
       "      <td>5900</td>\n",
       "      <td>22.40</td>\n",
       "      <td>60.1</td>\n",
       "      <td>6.16</td>\n",
       "      <td>3530</td>\n",
       "      <td>1</td>\n",
       "    </tr>\n",
       "    <tr>\n",
       "      <th>4</th>\n",
       "      <td>Antigua and Barbuda</td>\n",
       "      <td>10.3</td>\n",
       "      <td>45.5</td>\n",
       "      <td>6.03</td>\n",
       "      <td>58.9</td>\n",
       "      <td>19100</td>\n",
       "      <td>1.44</td>\n",
       "      <td>76.8</td>\n",
       "      <td>2.13</td>\n",
       "      <td>12200</td>\n",
       "      <td>0</td>\n",
       "    </tr>\n",
       "  </tbody>\n",
       "</table>\n",
       "</div>"
      ],
      "text/plain": [
       "               country  child_mort  exports  health  imports  income  \\\n",
       "0          Afghanistan        90.2     10.0    7.58     44.9    1610   \n",
       "1              Albania        16.6     28.0    6.55     48.6    9930   \n",
       "2              Algeria        27.3     38.4    4.17     31.4   12900   \n",
       "3               Angola       119.0     62.3    2.85     42.9    5900   \n",
       "4  Antigua and Barbuda        10.3     45.5    6.03     58.9   19100   \n",
       "\n",
       "   inflation  life_expec  total_fer   gdpp  label  \n",
       "0       9.44        56.2       5.82    553      1  \n",
       "1       4.49        76.3       1.65   4090      0  \n",
       "2      16.10        76.5       2.89   4460      1  \n",
       "3      22.40        60.1       6.16   3530      1  \n",
       "4       1.44        76.8       2.13  12200      0  "
      ]
     },
     "execution_count": 57,
     "metadata": {},
     "output_type": "execute_result"
    }
   ],
   "source": [
    "df_new=pd.concat([Y,df_k_pca],axis=1)\n",
    "df_new.head()"
   ]
  },
  {
   "cell_type": "code",
   "execution_count": 83,
   "metadata": {},
   "outputs": [],
   "source": [
    "underdev_df=df_new[df_new.label==1]\n",
    "dev_df=df_new[df_new.label==0]"
   ]
  },
  {
   "cell_type": "markdown",
   "metadata": {
    "colab_type": "text",
    "id": "s2oN1RYIvJAU"
   },
   "source": [
    "### \tUsing the cluster labels from the best method above and interpreting the clusters formed. "
   ]
  },
  {
   "cell_type": "code",
   "execution_count": 84,
   "metadata": {},
   "outputs": [
    {
     "data": {
      "text/plain": [
       "array(['Afghanistan', 'Algeria', 'Angola', 'Bangladesh', 'Benin',\n",
       "       'Bhutan', 'Bolivia', 'Botswana', 'Burkina Faso', 'Burundi',\n",
       "       'Cambodia', 'Cameroon', 'Cape Verde', 'Central African Republic',\n",
       "       'Chad', 'Comoros', 'Congo, Dem. Rep.', 'Congo, Rep.',\n",
       "       \"Cote d'Ivoire\", 'Egypt', 'Equatorial Guinea', 'Eritrea', 'Fiji',\n",
       "       'Gabon', 'Gambia', 'Ghana', 'Guatemala', 'Guinea', 'Guinea-Bissau',\n",
       "       'Guyana', 'Haiti', 'India', 'Indonesia', 'Iraq', 'Kazakhstan',\n",
       "       'Kenya', 'Kiribati', 'Kyrgyz Republic', 'Lao', 'Lesotho',\n",
       "       'Liberia', 'Madagascar', 'Malawi', 'Mali', 'Mauritania',\n",
       "       'Micronesia, Fed. Sts.', 'Mongolia', 'Morocco', 'Mozambique',\n",
       "       'Myanmar', 'Namibia', 'Nepal', 'Niger', 'Nigeria', 'Pakistan',\n",
       "       'Philippines', 'Rwanda', 'Samoa', 'Senegal', 'Sierra Leone',\n",
       "       'Solomon Islands', 'South Africa', 'Sri Lanka', 'Sudan',\n",
       "       'Tajikistan', 'Tanzania', 'Timor-Leste', 'Togo', 'Tonga',\n",
       "       'Turkmenistan', 'Uganda', 'Uzbekistan', 'Vanuatu', 'Vietnam',\n",
       "       'Yemen', 'Zambia'], dtype=object)"
      ]
     },
     "execution_count": 84,
     "metadata": {},
     "output_type": "execute_result"
    }
   ],
   "source": [
    "underdev_df.country.unique() #The ones with label 1 are underdeveloped countries and here are those countries listed \n",
    "#below"
   ]
  },
  {
   "cell_type": "code",
   "execution_count": 85,
   "metadata": {
    "colab": {},
    "colab_type": "code",
    "id": "ujM7p4eTvJAV"
   },
   "outputs": [
    {
     "data": {
      "text/plain": [
       "array(['Albania', 'Antigua and Barbuda', 'Argentina', 'Armenia',\n",
       "       'Australia', 'Austria', 'Azerbaijan', 'Bahamas', 'Bahrain',\n",
       "       'Barbados', 'Belarus', 'Belgium', 'Belize',\n",
       "       'Bosnia and Herzegovina', 'Brazil', 'Brunei', 'Bulgaria', 'Canada',\n",
       "       'Chile', 'China', 'Colombia', 'Costa Rica', 'Croatia', 'Cyprus',\n",
       "       'Czech Republic', 'Denmark', 'Dominican Republic', 'Ecuador',\n",
       "       'El Salvador', 'Estonia', 'Finland', 'France', 'Georgia',\n",
       "       'Germany', 'Greece', 'Grenada', 'Hungary', 'Iceland', 'Iran',\n",
       "       'Ireland', 'Israel', 'Italy', 'Jamaica', 'Japan', 'Jordan',\n",
       "       'Kuwait', 'Latvia', 'Lebanon', 'Libya', 'Lithuania', 'Luxembourg',\n",
       "       'Macedonia, FYR', 'Malaysia', 'Maldives', 'Malta', 'Mauritius',\n",
       "       'Moldova', 'Montenegro', 'Netherlands', 'New Zealand', 'Norway',\n",
       "       'Oman', 'Panama', 'Paraguay', 'Peru', 'Poland', 'Portugal',\n",
       "       'Qatar', 'Romania', 'Russia', 'Saudi Arabia', 'Serbia',\n",
       "       'Seychelles', 'Singapore', 'Slovak Republic', 'Slovenia',\n",
       "       'South Korea', 'Spain', 'St. Vincent and the Grenadines',\n",
       "       'Suriname', 'Sweden', 'Switzerland', 'Thailand', 'Tunisia',\n",
       "       'Turkey', 'Ukraine', 'United Arab Emirates', 'United Kingdom',\n",
       "       'United States', 'Uruguay', 'Venezuela'], dtype=object)"
      ]
     },
     "execution_count": 85,
     "metadata": {},
     "output_type": "execute_result"
    }
   ],
   "source": [
    "dev_df.country.unique() #The ones with label 0 are developed countries and here are those countries listed below"
   ]
  },
  {
   "cell_type": "markdown",
   "metadata": {
    "colab_type": "text",
    "id": "WtiXNKx6vJAZ"
   },
   "source": [
    "### \tSummarization\n"
   ]
  },
  {
   "cell_type": "code",
   "execution_count": 61,
   "metadata": {
    "colab": {},
    "colab_type": "code",
    "id": "SzwSWK2LvJAa"
   },
   "outputs": [],
   "source": [
    "# model building with kmeans model\n",
    "from sklearn.model_selection import train_test_split\n",
    "x=df_k.drop('label',axis=1)\n",
    "y=df_k['label']\n",
    "xtrain,xtest,ytrain,ytest=train_test_split(x,y,test_size=0.3,random_state=10)\n"
   ]
  },
  {
   "cell_type": "code",
   "execution_count": 62,
   "metadata": {},
   "outputs": [
    {
     "name": "stdout",
     "output_type": "stream",
     "text": [
      "Accuracy 1.0\n"
     ]
    }
   ],
   "source": [
    "from sklearn.ensemble import RandomForestClassifier\n",
    "from sklearn import metrics\n",
    "rf=RandomForestClassifier(max_depth=3)\n",
    "rf.fit(xtrain,ytrain)\n",
    "pred=rf.predict(xtest)\n",
    "print('Accuracy',metrics.accuracy_score(ytest,pred))"
   ]
  },
  {
   "cell_type": "code",
   "execution_count": 63,
   "metadata": {},
   "outputs": [
    {
     "name": "stdout",
     "output_type": "stream",
     "text": [
      "Classification report               precision    recall  f1-score   support\n",
      "\n",
      "           0       1.00      1.00      1.00       286\n",
      "           1       1.00      1.00      1.00       313\n",
      "\n",
      "    accuracy                           1.00       599\n",
      "   macro avg       1.00      1.00      1.00       599\n",
      "weighted avg       1.00      1.00      1.00       599\n",
      "\n"
     ]
    }
   ],
   "source": [
    "print('Classification report',metrics.classification_report(ytest,pred))"
   ]
  },
  {
   "cell_type": "code",
   "execution_count": 64,
   "metadata": {},
   "outputs": [],
   "source": [
    "#The model with kmeans has given a good accuracy of 99.4 percent.\n",
    "#The recall of the model is also 99%.\n",
    "#Hence, we can say that it is a good model."
   ]
  },
  {
   "cell_type": "code",
   "execution_count": 65,
   "metadata": {},
   "outputs": [],
   "source": [
    "#model builing for pca based model\n",
    "x=df_h.drop('label',axis=1)\n",
    "y=df_h['label']\n",
    "xtrain,xtest,ytrain,ytest=train_test_split(x,y,test_size=0.3,random_state=10)"
   ]
  },
  {
   "cell_type": "code",
   "execution_count": 66,
   "metadata": {},
   "outputs": [
    {
     "name": "stdout",
     "output_type": "stream",
     "text": [
      "Accuracy 0.993322203672788\n"
     ]
    }
   ],
   "source": [
    "from sklearn.ensemble import RandomForestClassifier\n",
    "from sklearn import metrics\n",
    "rf=RandomForestClassifier(max_depth=3)\n",
    "rf.fit(xtrain,ytrain)\n",
    "pred=rf.predict(xtest)\n",
    "print('Accuracy',metrics.accuracy_score(ytest,pred))"
   ]
  },
  {
   "cell_type": "code",
   "execution_count": 67,
   "metadata": {},
   "outputs": [
    {
     "name": "stdout",
     "output_type": "stream",
     "text": [
      "Classification report               precision    recall  f1-score   support\n",
      "\n",
      "           0       0.99      1.00      1.00       441\n",
      "           1       1.00      0.97      0.99       158\n",
      "\n",
      "    accuracy                           0.99       599\n",
      "   macro avg       1.00      0.99      0.99       599\n",
      "weighted avg       0.99      0.99      0.99       599\n",
      "\n"
     ]
    }
   ],
   "source": [
    "print('Classification report',metrics.classification_report(ytest,pred))"
   ]
  },
  {
   "cell_type": "code",
   "execution_count": 68,
   "metadata": {},
   "outputs": [],
   "source": [
    "#The model using pca has also yielded a good accuracy of 99.3%\n",
    "#The recall of the model is 99% as well.\n",
    "#Hence, we can say that this model is a good model."
   ]
  },
  {
   "cell_type": "markdown",
   "metadata": {},
   "source": [
    "Comparing both the cluster models"
   ]
  },
  {
   "cell_type": "code",
   "execution_count": 69,
   "metadata": {},
   "outputs": [],
   "source": [
    "#On comparing both the cluster model, we can infer from its accuracy and recall that both the models are generalized\n",
    "#model and are suitable for efficient prediction."
   ]
  },
  {
   "cell_type": "markdown",
   "metadata": {},
   "source": [
    "Business interpretation"
   ]
  },
  {
   "cell_type": "code",
   "execution_count": null,
   "metadata": {},
   "outputs": [],
   "source": [
    "#From the clustering, we can say that there exits 2 group of people. They are clustered on the basis of country\n",
    "#The first cluster is grouped on the basis of people from developed countries\n",
    "#The next cluster is grouped on the basis of people from backward countries.\n",
    "#There are nly equal set of people in both the groups."
   ]
  },
  {
   "cell_type": "code",
   "execution_count": 86,
   "metadata": {},
   "outputs": [
    {
     "data": {
      "text/plain": [
       "2073.9655511811025"
      ]
     },
     "execution_count": 86,
     "metadata": {},
     "output_type": "execute_result"
    }
   ],
   "source": [
    "#Average gdp for under developed countries\n",
    "underdev_df.gdpp.mean()"
   ]
  },
  {
   "cell_type": "code",
   "execution_count": 90,
   "metadata": {},
   "outputs": [
    {
     "data": {
      "text/plain": [
       "24633.200408997956"
      ]
     },
     "execution_count": 90,
     "metadata": {},
     "output_type": "execute_result"
    }
   ],
   "source": [
    "#Average gdp for developed countries\n",
    "dev_df.gdpp.mean()"
   ]
  },
  {
   "cell_type": "code",
   "execution_count": 91,
   "metadata": {},
   "outputs": [],
   "source": [
    "#Hence, on the basis of gdpp, the underdeveloped countries are 12times lesser than that of developed countries.\n",
    "#Hence, we need to focus on this group of country for improvement rather than the already developed countries."
   ]
  },
  {
   "cell_type": "code",
   "execution_count": 95,
   "metadata": {},
   "outputs": [
    {
     "data": {
      "text/plain": [
       "5.409911417322812"
      ]
     },
     "execution_count": 95,
     "metadata": {},
     "output_type": "execute_result"
    }
   ],
   "source": [
    "#Average health for under developed countries\n",
    "underdev_df.health.mean()"
   ]
  },
  {
   "cell_type": "code",
   "execution_count": 99,
   "metadata": {},
   "outputs": [
    {
     "data": {
      "text/plain": [
       "62.92066929133858"
      ]
     },
     "execution_count": 99,
     "metadata": {},
     "output_type": "execute_result"
    }
   ],
   "source": [
    "#avg life expectancy \n",
    "underdev_df.life_expec.mean()"
   ]
  },
  {
   "cell_type": "code",
   "execution_count": 96,
   "metadata": {},
   "outputs": [
    {
     "data": {
      "text/plain": [
       "7.916053169734153"
      ]
     },
     "execution_count": 96,
     "metadata": {},
     "output_type": "execute_result"
    }
   ],
   "source": [
    "#Average health for developed countries\n",
    "dev_df.health.mean()"
   ]
  },
  {
   "cell_type": "code",
   "execution_count": 101,
   "metadata": {},
   "outputs": [
    {
     "data": {
      "text/plain": [
       "77.29396728016386"
      ]
     },
     "execution_count": 101,
     "metadata": {},
     "output_type": "execute_result"
    }
   ],
   "source": [
    "#avg life expectancy\n",
    "dev_df.life_expec.mean()"
   ]
  },
  {
   "cell_type": "code",
   "execution_count": 97,
   "metadata": {},
   "outputs": [],
   "source": [
    "#Even, on the basis of health and life expectancy , the underdeveloped countries are lesser than the developed countries.\n",
    "#Hence, this also proves that underdeveloped countries needs further growth."
   ]
  },
  {
   "cell_type": "code",
   "execution_count": null,
   "metadata": {},
   "outputs": [],
   "source": [
    "#We have compared both the models on the basis of 3 most important aspect gdp,health and life expectancy.\n",
    "#Both gives us a same result stating label 1 (under developed countries) are far backward in both their economic and health \n",
    "#aspect as compared to the label 0 (developed countries)"
   ]
  },
  {
   "cell_type": "code",
   "execution_count": null,
   "metadata": {},
   "outputs": [],
   "source": [
    "#Risk\n",
    "#We can come to a further better conclusion with the inclusive of more additional aspects from each set of countries.\n",
    "#Underdeveloped countries are at a risk of bad health conditions and poverty and high child mortality rate."
   ]
  }
 ],
 "metadata": {
  "colab": {
   "collapsed_sections": [],
   "name": "USL_FINAL_EXAM_SET_1_EXAM_PAPER.ipynb",
   "provenance": []
  },
  "kernelspec": {
   "display_name": "Python 3",
   "language": "python",
   "name": "python3"
  },
  "language_info": {
   "codemirror_mode": {
    "name": "ipython",
    "version": 3
   },
   "file_extension": ".py",
   "mimetype": "text/x-python",
   "name": "python",
   "nbconvert_exporter": "python",
   "pygments_lexer": "ipython3",
   "version": "3.7.6"
  }
 },
 "nbformat": 4,
 "nbformat_minor": 1
}
